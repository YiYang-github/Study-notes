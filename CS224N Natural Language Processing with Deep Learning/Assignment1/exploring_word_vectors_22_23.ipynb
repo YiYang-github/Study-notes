{
  "cells": [
    {
      "cell_type": "markdown",
      "metadata": {
        "id": "3HqK14JLSStR"
      },
      "source": [
        "# CS224N Assignment 1: Exploring Word Vectors (25 Points)\n",
        "### <font color='blue'> Due 4:30pm, Tue Jan 17 </font>\n",
        "\n",
        "Welcome to CS224N! \n",
        "\n",
        "Before you start, make sure you read the README.txt in the same directory as this notebook for important setup information. A lot of code is provided in this notebook, and we highly encourage you to read and understand it as part of the learning :)\n",
        "\n",
        "If you aren't super familiar with Python, Numpy, or Matplotlib, we recommend you check out the review session on Friday. The session will be recorded and the material will be made available on our [website](http://web.stanford.edu/class/cs224n/index.html#schedule). The CS231N Python/Numpy [tutorial](https://cs231n.github.io/python-numpy-tutorial/) is also a great resource.\n",
        "\n",
        "\n",
        "**Assignment Notes:** Please make sure to save the notebook as you go along. Submission Instructions are located at the bottom of the notebook."
      ]
    },
    {
      "cell_type": "code",
      "execution_count": 1,
      "metadata": {
        "id": "8AGQxROrSStf"
      },
      "outputs": [
        {
          "name": "stderr",
          "output_type": "stream",
          "text": [
            "[nltk_data] Downloading package reuters to\n",
            "[nltk_data]     C:\\Users\\hua'wei\\AppData\\Roaming\\nltk_data...\n"
          ]
        }
      ],
      "source": [
        "# All Import Statements Defined Here\n",
        "# Note: Do not add to this list.\n",
        "# ----------------\n",
        "\n",
        "import sys\n",
        "assert sys.version_info[0]==3\n",
        "assert sys.version_info[1] >= 5\n",
        "\n",
        "from platform import python_version\n",
        "assert int(python_version().split(\".\")[1]) >= 5, \"Please upgrade your Python version following the instructions in \\\n",
        "    the README.txt file found in the same directory as this notebook. Your Python version is \" + python_version()\n",
        "\n",
        "from gensim.models import KeyedVectors\n",
        "from gensim.test.utils import datapath\n",
        "import pprint\n",
        "import matplotlib.pyplot as plt\n",
        "plt.rcParams['figure.figsize'] = [10, 5]\n",
        "\n",
        "import nltk\n",
        "nltk.download('reuters') #to specify download location, optionally add the argument: download_dir='/specify/desired/path/'\n",
        "from nltk.corpus import reuters\n",
        "\n",
        "import numpy as np\n",
        "import random\n",
        "import scipy as sp\n",
        "from sklearn.decomposition import TruncatedSVD\n",
        "from sklearn.decomposition import PCA\n",
        "\n",
        "START_TOKEN = '<START>'\n",
        "END_TOKEN = '<END>'\n",
        "\n",
        "np.random.seed(0)\n",
        "random.seed(0)\n",
        "# ----------------"
      ]
    },
    {
      "cell_type": "markdown",
      "metadata": {
        "id": "SICd5IedSSto"
      },
      "source": [
        "## Word Vectors\n",
        "\n",
        "Word Vectors are often used as a fundamental component for downstream NLP tasks, e.g. question answering, text generation, translation, etc., so it is important to build some intuitions as to their strengths and weaknesses. Here, you will explore two types of word vectors: those derived from *co-occurrence matrices*, and those derived via *GloVe*. \n",
        "\n",
        "**Note on Terminology:** The terms \"word vectors\" and \"word embeddings\" are often used interchangeably. The term \"embedding\" refers to the fact that we are encoding aspects of a word's meaning in a lower dimensional space. As [Wikipedia](https://en.wikipedia.org/wiki/Word_embedding) states, \"*conceptually it involves a mathematical embedding from a space with one dimension per word to a continuous vector space with a much lower dimension*\"."
      ]
    },
    {
      "cell_type": "markdown",
      "metadata": {
        "id": "6Eug6AVrSStr"
      },
      "source": [
        "## Part 1: Count-Based Word Vectors (10 points)\n",
        "\n",
        "Most word vector models start from the following idea:\n",
        "\n",
        "*You shall know a word by the company it keeps ([Firth, J. R. 1957:11](https://en.wikipedia.org/wiki/John_Rupert_Firth))*\n",
        "\n",
        "Many word vector implementations are driven by the idea that similar words, i.e., (near) synonyms, will be used in similar contexts. As a result, similar words will often be spoken or written along with a shared subset of words, i.e., contexts. By examining these contexts, we can try to develop embeddings for our words. With this intuition in mind, many \"old school\" approaches to constructing word vectors relied on word counts. Here we elaborate upon one of those strategies, *co-occurrence matrices* (for more information, see [here](https://web.stanford.edu/~jurafsky/slp3/6.pdf) or [here](https://medium.com/data-science-group-iitr/word-embedding-2d05d270b285))."
      ]
    },
    {
      "cell_type": "markdown",
      "metadata": {
        "id": "L6uQ9-DVSSts"
      },
      "source": [
        "### Co-Occurrence\n",
        "\n",
        "A co-occurrence matrix counts how often things co-occur in some environment. Given some word $w_i$ occurring in the document, we consider the *context window* surrounding $w_i$. Supposing our fixed window size is $n$, then this is the $n$ preceding and $n$ subsequent words in that document, i.e. words $w_{i-n} \\dots w_{i-1}$ and $w_{i+1} \\dots w_{i+n}$. We build a *co-occurrence matrix* $M$, which is a symmetric word-by-word matrix in which $M_{ij}$ is the number of times $w_j$ appears inside $w_i$'s window among all documents.\n",
        "\n",
        "**Example: Co-Occurrence with Fixed Window of n=1**:\n",
        "\n",
        "Document 1: \"all that glitters is not gold\"\n",
        "\n",
        "Document 2: \"all is well that ends well\"\n",
        "\n",
        "\n",
        "|     *    | `<START>` | all | that | glitters | is   | not  | gold  | well | ends | `<END>` |\n",
        "|----------|-------|-----|------|----------|------|------|-------|------|------|-----|\n",
        "| `<START>`    | 0     | 2   | 0    | 0        | 0    | 0    | 0     | 0    | 0    | 0   |\n",
        "| all      | 2     | 0   | 1    | 0        | 1    | 0    | 0     | 0    | 0    | 0   |\n",
        "| that     | 0     | 1   | 0    | 1        | 0    | 0    | 0     | 1    | 1    | 0   |\n",
        "| glitters | 0     | 0   | 1    | 0        | 1    | 0    | 0     | 0    | 0    | 0   |\n",
        "| is       | 0     | 1   | 0    | 1        | 0    | 1    | 0     | 1    | 0    | 0   |\n",
        "| not      | 0     | 0   | 0    | 0        | 1    | 0    | 1     | 0    | 0    | 0   |\n",
        "| gold     | 0     | 0   | 0    | 0        | 0    | 1    | 0     | 0    | 0    | 1   |\n",
        "| well     | 0     | 0   | 1    | 0        | 1    | 0    | 0     | 0    | 1    | 1   |\n",
        "| ends     | 0     | 0   | 1    | 0        | 0    | 0    | 0     | 1    | 0    | 0   |\n",
        "| `<END>`      | 0     | 0   | 0    | 0        | 0    | 0    | 1     | 1    | 0    | 0   |\n",
        "\n",
        "**Note:** In NLP, we often add `<START>` and `<END>` tokens to represent the beginning and end of sentences, paragraphs or documents. In this case we imagine `<START>` and `<END>` tokens encapsulating each document, e.g., \"`<START>` All that glitters is not gold `<END>`\", and include these tokens in our co-occurrence counts.\n",
        "\n",
        "The rows (or columns) of this matrix provide one type of word vectors (those based on word-word co-occurrence), but the vectors will be large in general (linear in the number of distinct words in a corpus). Thus, our next step is to run *dimensionality reduction*. In particular, we will run *SVD (Singular Value Decomposition)*, which is a kind of generalized *PCA (Principal Components Analysis)* to select the top $k$ principal components. Here's a visualization of dimensionality reduction with SVD. In this picture our co-occurrence matrix is $A$ with $n$ rows corresponding to $n$ words. We obtain a full matrix decomposition, with the singular values ordered in the diagonal $S$ matrix, and our new, shorter length-$k$ word vectors in $U_k$.\n",
        "\n",
        "![Picture of an SVD](./imgs/svd.png \"SVD\")\n",
        "\n",
        "This reduced-dimensionality co-occurrence representation preserves semantic relationships between words, e.g. *doctor* and *hospital* will be closer than *doctor* and *dog*. \n",
        "\n",
        "**Notes:** If you can barely remember what an eigenvalue is, here's [a slow, friendly introduction to SVD](https://davetang.org/file/Singular_Value_Decomposition_Tutorial.pdf). If you want to learn more thoroughly about PCA or SVD, feel free to check out lectures [7](https://web.stanford.edu/class/cs168/l/l7.pdf), [8](http://theory.stanford.edu/~tim/s15/l/l8.pdf), and [9](https://web.stanford.edu/class/cs168/l/l9.pdf) of CS168. These course notes provide a great high-level treatment of these general purpose algorithms. Though, for the purpose of this class, you only need to know how to extract the k-dimensional embeddings by utilizing pre-programmed implementations of these algorithms from the numpy, scipy, or sklearn python packages. In practice, it is challenging to apply full SVD to large corpora because of the memory needed to perform PCA or SVD. However, if you only want the top $k$ vector components for relatively small $k$ — known as [Truncated SVD](https://en.wikipedia.org/wiki/Singular_value_decomposition#Truncated_SVD) — then there are reasonably scalable techniques to compute those iteratively."
      ]
    },
    {
      "cell_type": "markdown",
      "metadata": {
        "id": "7IKeK4xtSStv"
      },
      "source": [
        "### Plotting Co-Occurrence Word Embeddings\n",
        "\n",
        "Here, we will be using the Reuters (business and financial news) corpus. If you haven't run the import cell at the top of this page, please run it now (click it and press SHIFT-RETURN). The corpus consists of 10,788 news documents totaling 1.3 million words. These documents span 90 categories and are split into train and test. For more details, please see https://www.nltk.org/book/ch02.html. We provide a `read_corpus` function below that pulls out only articles from the \"gold\" (i.e. news articles about gold, mining, etc.) category. The function also adds `<START>` and `<END>` tokens to each of the documents, and lowercases words. You do **not** have to perform any other kind of pre-processing."
      ]
    },
    {
      "cell_type": "code",
      "execution_count": 2,
      "metadata": {
        "id": "xwD2htUoSStw"
      },
      "outputs": [],
      "source": [
        "def read_corpus(category=\"gold\"):\n",
        "    \"\"\" Read files from the specified Reuter's category.\n",
        "        Params:\n",
        "            category (string): category name\n",
        "        Return:\n",
        "            list of lists, with words from each of the processed files\n",
        "    \"\"\"\n",
        "    files = reuters.fileids(category)\n",
        "    return [[START_TOKEN] + [w.lower() for w in list(reuters.words(f))] + [END_TOKEN] for f in files]\n"
      ]
    },
    {
      "cell_type": "markdown",
      "metadata": {
        "id": "hVLquFhjSStx"
      },
      "source": [
        "Let's have a look what these documents are like…."
      ]
    },
    {
      "cell_type": "code",
      "execution_count": 3,
      "metadata": {
        "id": "mC7B9Cb-SSty",
        "scrolled": false
      },
      "outputs": [
        {
          "name": "stdout",
          "output_type": "stream",
          "text": [
            "[['<START>', 'western', 'mining', 'to', 'open', 'new', 'gold', 'mine', 'in', 'australia', 'western',\n",
            "  'mining', 'corp', 'holdings', 'ltd', '&', 'lt', ';', 'wmng', '.', 's', '>', '(', 'wmc', ')',\n",
            "  'said', 'it', 'will', 'establish', 'a', 'new', 'joint', 'venture', 'gold', 'mine', 'in', 'the',\n",
            "  'northern', 'territory', 'at', 'a', 'cost', 'of', 'about', '21', 'mln', 'dlrs', '.', 'the',\n",
            "  'mine', ',', 'to', 'be', 'known', 'as', 'the', 'goodall', 'project', ',', 'will', 'be', 'owned',\n",
            "  '60', 'pct', 'by', 'wmc', 'and', '40', 'pct', 'by', 'a', 'local', 'w', '.', 'r', '.', 'grace',\n",
            "  'and', 'co', '&', 'lt', ';', 'gra', '>', 'unit', '.', 'it', 'is', 'located', '30', 'kms', 'east',\n",
            "  'of', 'the', 'adelaide', 'river', 'at', 'mt', '.', 'bundey', ',', 'wmc', 'said', 'in', 'a',\n",
            "  'statement', 'it', 'said', 'the', 'open', '-', 'pit', 'mine', ',', 'with', 'a', 'conventional',\n",
            "  'leach', 'treatment', 'plant', ',', 'is', 'expected', 'to', 'produce', 'about', '50', ',', '000',\n",
            "  'ounces', 'of', 'gold', 'in', 'its', 'first', 'year', 'of', 'production', 'from', 'mid', '-',\n",
            "  '1988', '.', 'annual', 'ore', 'capacity', 'will', 'be', 'about', '750', ',', '000', 'tonnes', '.',\n",
            "  '<END>'],\n",
            " ['<START>', 'belgium', 'to', 'issue', 'gold', 'warrants', ',', 'sources', 'say', 'belgium',\n",
            "  'plans', 'to', 'issue', 'swiss', 'franc', 'warrants', 'to', 'buy', 'gold', ',', 'with', 'credit',\n",
            "  'suisse', 'as', 'lead', 'manager', ',', 'market', 'sources', 'said', '.', 'no', 'confirmation',\n",
            "  'or', 'further', 'details', 'were', 'immediately', 'available', '.', '<END>'],\n",
            " ['<START>', 'belgium', 'launches', 'bonds', 'with', 'gold', 'warrants', 'the', 'kingdom', 'of',\n",
            "  'belgium', 'is', 'launching', '100', 'mln', 'swiss', 'francs', 'of', 'seven', 'year', 'notes',\n",
            "  'with', 'warrants', 'attached', 'to', 'buy', 'gold', ',', 'lead', 'mananger', 'credit', 'suisse',\n",
            "  'said', '.', 'the', 'notes', 'themselves', 'have', 'a', '3', '-', '3', '/', '8', 'pct', 'coupon',\n",
            "  'and', 'are', 'priced', 'at', 'par', '.', 'payment', 'is', 'due', 'april', '30', ',', '1987',\n",
            "  'and', 'final', 'maturity', 'april', '30', ',', '1994', '.', 'each', '50', ',', '000', 'franc',\n",
            "  'note', 'carries', '15', 'warrants', '.', 'two', 'warrants', 'are', 'required', 'to', 'allow',\n",
            "  'the', 'holder', 'to', 'buy', '100', 'grammes', 'of', 'gold', 'at', 'a', 'price', 'of', '2', ',',\n",
            "  '450', 'francs', ',', 'during', 'the', 'entire', 'life', 'of', 'the', 'bond', '.', 'the',\n",
            "  'latest', 'gold', 'price', 'in', 'zurich', 'was', '2', ',', '045', '/', '2', ',', '070', 'francs',\n",
            "  'per', '100', 'grammes', '.', '<END>']]\n"
          ]
        }
      ],
      "source": [
        "reuters_corpus = read_corpus()\n",
        "pprint.pprint(reuters_corpus[:3], compact=True, width=100)"
      ]
    },
    {
      "cell_type": "markdown",
      "metadata": {
        "id": "tfa216H1SSt0"
      },
      "source": [
        "### Question 1.1: Implement `distinct_words` [code] (2 points)\n",
        "\n",
        "Write a method to work out the distinct words (word types) that occur in the corpus. You can do this with `for` loops, but it's more efficient to do it with Python list comprehensions. In particular, [this](https://coderwall.com/p/rcmaea/flatten-a-list-of-lists-in-one-line-in-python) may be useful to flatten a list of lists. If you're not familiar with Python list comprehensions in general, here's [more information](https://python-3-patterns-idioms-test.readthedocs.io/en/latest/Comprehensions.html).\n",
        "\n",
        "Your returned `corpus_words` should be sorted. You can use python's `sorted` function for this.\n",
        "\n",
        "You may find it useful to use [Python sets](https://www.w3schools.com/python/python_sets.asp) to remove duplicate words."
      ]
    },
    {
      "cell_type": "code",
      "execution_count": 4,
      "metadata": {
        "id": "NjJABbVFSSt1"
      },
      "outputs": [],
      "source": [
        "def distinct_words(corpus):\n",
        "    \"\"\" Determine a list of distinct words for the corpus.\n",
        "        Params:\n",
        "            corpus (list of list of strings): corpus of documents\n",
        "        Return:\n",
        "            corpus_words (list of strings): sorted list of distinct words across the corpus\n",
        "            n_corpus_words (integer): number of distinct words across the corpus\n",
        "    \"\"\"\n",
        "    corpus_words = []\n",
        "    n_corpus_words = -1\n",
        "    \n",
        "    ### SOLUTION BEGIN\n",
        "    unique_words = set()\n",
        "    for doc in corpus:\n",
        "        for word in doc:\n",
        "            unique_words.add(word)\n",
        "\n",
        "    corpus_words = sorted(list(unique_words))\n",
        "    n_corpus_words = len(corpus_words)\n",
        "    ### SOLUTION END\n",
        "\n",
        "    return corpus_words, n_corpus_words"
      ]
    },
    {
      "cell_type": "code",
      "execution_count": 5,
      "metadata": {
        "id": "iKfXBXySSSt3"
      },
      "outputs": [
        {
          "name": "stdout",
          "output_type": "stream",
          "text": [
            "--------------------------------------------------------------------------------\n",
            "Passed All Tests!\n",
            "--------------------------------------------------------------------------------\n"
          ]
        }
      ],
      "source": [
        "# ---------------------\n",
        "# Run this sanity check\n",
        "# Note that this not an exhaustive check for correctness.\n",
        "# ---------------------\n",
        "\n",
        "# Define toy corpus\n",
        "test_corpus = [\"{} All that glitters isn't gold {}\".format(START_TOKEN, END_TOKEN).split(\" \"), \"{} All's well that ends well {}\".format(START_TOKEN, END_TOKEN).split(\" \")]\n",
        "test_corpus_words, num_corpus_words = distinct_words(test_corpus)\n",
        "\n",
        "# Correct answers\n",
        "ans_test_corpus_words = sorted([START_TOKEN, \"All\", \"ends\", \"that\", \"gold\", \"All's\", \"glitters\", \"isn't\", \"well\", END_TOKEN])\n",
        "ans_num_corpus_words = len(ans_test_corpus_words)\n",
        "\n",
        "# Test correct number of words\n",
        "assert(num_corpus_words == ans_num_corpus_words), \"Incorrect number of distinct words. Correct: {}. Yours: {}\".format(ans_num_corpus_words, num_corpus_words)\n",
        "\n",
        "# Test correct words\n",
        "assert (test_corpus_words == ans_test_corpus_words), \"Incorrect corpus_words.\\nCorrect: {}\\nYours:   {}\".format(str(ans_test_corpus_words), str(test_corpus_words))\n",
        "\n",
        "# Print Success\n",
        "print (\"-\" * 80)\n",
        "print(\"Passed All Tests!\")\n",
        "print (\"-\" * 80)"
      ]
    },
    {
      "cell_type": "markdown",
      "metadata": {
        "id": "ymDFJn_lSSt5"
      },
      "source": [
        "### Question 1.2: Implement `compute_co_occurrence_matrix` [code] (3 points)\n",
        "\n",
        "Write a method that constructs a co-occurrence matrix for a certain window-size $n$ (with a default of 4), considering words $n$ before and $n$ after the word in the center of the window. Here, we start to use `numpy (np)` to represent vectors, matrices, and tensors. If you're not familiar with NumPy, there's a NumPy tutorial in the second half of this cs231n [Python NumPy tutorial](http://cs231n.github.io/python-numpy-tutorial/).\n"
      ]
    },
    {
      "cell_type": "code",
      "execution_count": 10,
      "metadata": {
        "id": "v8MIy3KDSSt6"
      },
      "outputs": [],
      "source": [
        "def compute_co_occurrence_matrix(corpus, window_size=4):\n",
        "    \"\"\" Compute co-occurrence matrix for the given corpus and window_size (default of 4).\n",
        "    \n",
        "        Note: Each word in a document should be at the center of a window. Words near edges will have a smaller\n",
        "              number of co-occurring words.\n",
        "              \n",
        "              For example, if we take the document \"<START> All that glitters is not gold <END>\" with window size of 4,\n",
        "              \"All\" will co-occur with \"<START>\", \"that\", \"glitters\", \"is\", and \"not\".\n",
        "    \n",
        "        Params:\n",
        "            corpus (list of list of strings): corpus of documents\n",
        "            window_size (int): size of context window\n",
        "        Return:\n",
        "            M (a symmetric numpy matrix of shape (number of unique words in the corpus , number of unique words in the corpus)): \n",
        "                Co-occurence matrix of word counts. \n",
        "                The ordering of the words in the rows/columns should be the same as the ordering of the words given by the distinct_words function.\n",
        "            word2ind (dict): dictionary that maps word to index (i.e. row/column number) for matrix M.\n",
        "    \"\"\"\n",
        "    words, n_words = distinct_words(corpus)\n",
        "    M = None\n",
        "    word2ind = {}\n",
        "    \n",
        "    ### SOLUTION BEGIN\n",
        "    M = np.zeros((n_words, n_words))\n",
        "    word2ind = {word: i for i, word in enumerate(words)}\n",
        "    \n",
        "    for doc in corpus:\n",
        "        for i, word in enumerate(doc):\n",
        "            start = max(0, i - window_size)\n",
        "            end = min(len(doc), i + window_size + 1)\n",
        "            for j in range(start, end):\n",
        "                if j != i:\n",
        "                    M[word2ind[word], word2ind[doc[j]]] += 0.5\n",
        "                    M[word2ind[doc[j]], word2ind[word]] += 0.5\n",
        "\n",
        "\n",
        "    ### SOLUTION END\n",
        "\n",
        "    return M, word2ind"
      ]
    },
    {
      "cell_type": "code",
      "execution_count": 11,
      "metadata": {
        "id": "u-6ID1qhSSt7"
      },
      "outputs": [
        {
          "name": "stdout",
          "output_type": "stream",
          "text": [
            "--------------------------------------------------------------------------------\n",
            "Passed All Tests!\n",
            "--------------------------------------------------------------------------------\n"
          ]
        }
      ],
      "source": [
        "# ---------------------\n",
        "# Run this sanity check\n",
        "# Note that this is not an exhaustive check for correctness.\n",
        "# ---------------------\n",
        "\n",
        "# Define toy corpus and get student's co-occurrence matrix\n",
        "test_corpus = [\"{} All that glitters isn't gold {}\".format(START_TOKEN, END_TOKEN).split(\" \"), \"{} All's well that ends well {}\".format(START_TOKEN, END_TOKEN).split(\" \")]\n",
        "M_test, word2ind_test = compute_co_occurrence_matrix(test_corpus, window_size=1)\n",
        "\n",
        "# Correct M and word2ind\n",
        "M_test_ans = np.array( \n",
        "    [[0., 0., 0., 0., 0., 0., 1., 0., 0., 1.,],\n",
        "     [0., 0., 1., 1., 0., 0., 0., 0., 0., 0.,],\n",
        "     [0., 1., 0., 0., 0., 0., 0., 0., 1., 0.,],\n",
        "     [0., 1., 0., 0., 0., 0., 0., 0., 0., 1.,],\n",
        "     [0., 0., 0., 0., 0., 0., 0., 0., 1., 1.,],\n",
        "     [0., 0., 0., 0., 0., 0., 0., 1., 1., 0.,],\n",
        "     [1., 0., 0., 0., 0., 0., 0., 1., 0., 0.,],\n",
        "     [0., 0., 0., 0., 0., 1., 1., 0., 0., 0.,],\n",
        "     [0., 0., 1., 0., 1., 1., 0., 0., 0., 1.,],\n",
        "     [1., 0., 0., 1., 1., 0., 0., 0., 1., 0.,]]\n",
        ")\n",
        "ans_test_corpus_words = sorted([START_TOKEN, \"All\", \"ends\", \"that\", \"gold\", \"All's\", \"glitters\", \"isn't\", \"well\", END_TOKEN])\n",
        "word2ind_ans = dict(zip(ans_test_corpus_words, range(len(ans_test_corpus_words))))\n",
        "\n",
        "# Test correct word2ind\n",
        "assert (word2ind_ans == word2ind_test), \"Your word2ind is incorrect:\\nCorrect: {}\\nYours: {}\".format(word2ind_ans, word2ind_test)\n",
        "\n",
        "# Test correct M shape\n",
        "assert (M_test.shape == M_test_ans.shape), \"M matrix has incorrect shape.\\nCorrect: {}\\nYours: {}\".format(M_test.shape, M_test_ans.shape)\n",
        "\n",
        "# Test correct M values\n",
        "for w1 in word2ind_ans.keys():\n",
        "    idx1 = word2ind_ans[w1]\n",
        "    for w2 in word2ind_ans.keys():\n",
        "        idx2 = word2ind_ans[w2]\n",
        "        student = M_test[idx1, idx2]\n",
        "        correct = M_test_ans[idx1, idx2]\n",
        "        if student != correct:\n",
        "            print(\"Correct M:\")\n",
        "            print(M_test_ans)\n",
        "            print(\"Your M: \")\n",
        "            print(M_test)\n",
        "            raise AssertionError(\"Incorrect count at index ({}, {})=({}, {}) in matrix M. Yours has {} but should have {}.\".format(idx1, idx2, w1, w2, student, correct))\n",
        "\n",
        "# Print Success\n",
        "print (\"-\" * 80)\n",
        "print(\"Passed All Tests!\")\n",
        "print (\"-\" * 80)"
      ]
    },
    {
      "cell_type": "markdown",
      "metadata": {
        "id": "K-nyJnAASSt9"
      },
      "source": [
        "### Question 1.3: Implement `reduce_to_k_dim` [code] (1 point)\n",
        "\n",
        "Construct a method that performs dimensionality reduction on the matrix to produce k-dimensional embeddings. Use SVD to take the top k components and produce a new matrix of k-dimensional embeddings. \n",
        "\n",
        "**Note:** All of numpy, scipy, and scikit-learn (`sklearn`) provide *some* implementation of SVD, but only scipy and sklearn provide an implementation of Truncated SVD, and only sklearn provides an efficient randomized algorithm for calculating large-scale Truncated SVD. So please use [sklearn.decomposition.TruncatedSVD](https://scikit-learn.org/stable/modules/generated/sklearn.decomposition.TruncatedSVD.html)."
      ]
    },
    {
      "cell_type": "code",
      "execution_count": 12,
      "metadata": {
        "id": "truGMjifSSt9"
      },
      "outputs": [],
      "source": [
        "def reduce_to_k_dim(M, k=2):\n",
        "    \"\"\" Reduce a co-occurence count matrix of dimensionality (num_corpus_words, num_corpus_words)\n",
        "        to a matrix of dimensionality (num_corpus_words, k) using the following SVD function from Scikit-Learn:\n",
        "            - http://scikit-learn.org/stable/modules/generated/sklearn.decomposition.TruncatedSVD.html\n",
        "    \n",
        "        Params:\n",
        "            M (numpy matrix of shape (number of unique words in the corpus , number of unique words in the corpus)): co-occurence matrix of word counts\n",
        "            k (int): embedding size of each word after dimension reduction\n",
        "        Return:\n",
        "            M_reduced (numpy matrix of shape (number of corpus words, k)): matrix of k-dimensioal word embeddings.\n",
        "                    In terms of the SVD from math class, this actually returns U * S\n",
        "    \"\"\"    \n",
        "    n_iters = 10     # Use this parameter in your call to `TruncatedSVD`\n",
        "    M_reduced = None\n",
        "    print(\"Running Truncated SVD over %i words...\" % (M.shape[0]))\n",
        "    \n",
        "    ### SOLUTION BEGIN\n",
        "    svd = TruncatedSVD(n_components=k, n_iter=n_iters)\n",
        "    M_reduced = svd.fit_transform(M)\n",
        "    ### SOLUTION END\n",
        "\n",
        "    print(\"Done.\")\n",
        "    return M_reduced"
      ]
    },
    {
      "cell_type": "code",
      "execution_count": 13,
      "metadata": {
        "id": "7pqKuqvhSSt-"
      },
      "outputs": [
        {
          "name": "stdout",
          "output_type": "stream",
          "text": [
            "Running Truncated SVD over 10 words...\n",
            "Done.\n",
            "--------------------------------------------------------------------------------\n",
            "Passed All Tests!\n",
            "--------------------------------------------------------------------------------\n"
          ]
        }
      ],
      "source": [
        "# ---------------------\n",
        "# Run this sanity check\n",
        "# Note that this is not an exhaustive check for correctness \n",
        "# In fact we only check that your M_reduced has the right dimensions.\n",
        "# ---------------------\n",
        "\n",
        "# Define toy corpus and run student code\n",
        "test_corpus = [\"{} All that glitters isn't gold {}\".format(START_TOKEN, END_TOKEN).split(\" \"), \"{} All's well that ends well {}\".format(START_TOKEN, END_TOKEN).split(\" \")]\n",
        "M_test, word2ind_test = compute_co_occurrence_matrix(test_corpus, window_size=1)\n",
        "M_test_reduced = reduce_to_k_dim(M_test, k=2)\n",
        "\n",
        "# Test proper dimensions\n",
        "assert (M_test_reduced.shape[0] == 10), \"M_reduced has {} rows; should have {}\".format(M_test_reduced.shape[0], 10)\n",
        "assert (M_test_reduced.shape[1] == 2), \"M_reduced has {} columns; should have {}\".format(M_test_reduced.shape[1], 2)\n",
        "\n",
        "# Print Success\n",
        "print (\"-\" * 80)\n",
        "print(\"Passed All Tests!\")\n",
        "print (\"-\" * 80)"
      ]
    },
    {
      "cell_type": "markdown",
      "metadata": {
        "id": "apZknsLoSSt_"
      },
      "source": [
        "### Question 1.4: Implement `plot_embeddings` [code] (1 point)\n",
        "\n",
        "Here you will write a function to plot a set of 2D vectors in 2D space. For graphs, we will use Matplotlib (`plt`).\n",
        "\n",
        "For this example, you may find it useful to adapt [this code](http://web.archive.org/web/20190924160434/https://www.pythonmembers.club/2018/05/08/matplotlib-scatter-plot-annotate-set-text-at-label-each-point/). In the future, a good way to make a plot is to look at [the Matplotlib gallery](https://matplotlib.org/gallery/index.html), find a plot that looks somewhat like what you want, and adapt the code they give."
      ]
    },
    {
      "cell_type": "code",
      "execution_count": 14,
      "metadata": {
        "id": "dDcCZE5lSSuA"
      },
      "outputs": [],
      "source": [
        "def plot_embeddings(M_reduced, word2ind, words):\n",
        "    \"\"\" Plot in a scatterplot the embeddings of the words specified in the list \"words\".\n",
        "        NOTE: do not plot all the words listed in M_reduced / word2ind.\n",
        "        Include a label next to each point.\n",
        "        \n",
        "        Params:\n",
        "            M_reduced (numpy matrix of shape (number of unique words in the corpus , 2)): matrix of 2-dimensioal word embeddings\n",
        "            word2ind (dict): dictionary that maps word to indices for matrix M\n",
        "            words (list of strings): words whose embeddings we want to visualize\n",
        "    \"\"\"\n",
        "\n",
        "    ### SOLUTION BEGIN\n",
        "    # Create a scatter plot of the embeddings\n",
        "    fig, ax = plt.subplots()\n",
        "    ax.scatter(M_reduced[:, 0], M_reduced[:, 1])\n",
        "    \n",
        "    # Add labels to the points\n",
        "    for i, word in enumerate(words):\n",
        "        ax.annotate(word, (M_reduced[i, 0], M_reduced[i, 1]))\n",
        "    \n",
        "    # Set the title and axis labels\n",
        "    ax.set_title('Word Embeddings')\n",
        "    ax.set_xlabel('Embedding Dimension 1')\n",
        "    ax.set_ylabel('Embedding Dimension 2')\n",
        "    \n",
        "    # Show the plot\n",
        "    plt.show()\n",
        "    ### SOLUTION END"
      ]
    },
    {
      "cell_type": "code",
      "execution_count": 15,
      "metadata": {
        "id": "gHxOMWPxSSuB"
      },
      "outputs": [
        {
          "name": "stdout",
          "output_type": "stream",
          "text": [
            "--------------------------------------------------------------------------------\n",
            "Outputted Plot:\n"
          ]
        },
        {
          "data": {
            "image/png": "[encoded data removed]",
            "text/plain": [
              "<Figure size 1000x500 with 1 Axes>"
            ]
          },
          "metadata": {},
          "output_type": "display_data"
        },
        {
          "name": "stdout",
          "output_type": "stream",
          "text": [
            "--------------------------------------------------------------------------------\n"
          ]
        }
      ],
      "source": [
        "# ---------------------\n",
        "# Run this sanity check\n",
        "# Note that this is not an exhaustive check for correctness.\n",
        "# The plot produced should look like the \"test solution plot\" depicted below. \n",
        "# ---------------------\n",
        "\n",
        "print (\"-\" * 80)\n",
        "print (\"Outputted Plot:\")\n",
        "\n",
        "M_reduced_plot_test = np.array([[1, 1], [-1, -1], [1, -1], [-1, 1], [0, 0]])\n",
        "word2ind_plot_test = {'test1': 0, 'test2': 1, 'test3': 2, 'test4': 3, 'test5': 4}\n",
        "words = ['test1', 'test2', 'test3', 'test4', 'test5']\n",
        "plot_embeddings(M_reduced_plot_test, word2ind_plot_test, words)\n",
        "\n",
        "print (\"-\" * 80)"
      ]
    },
    {
      "cell_type": "markdown",
      "metadata": {
        "id": "YpBzYs2hSSuC"
      },
      "source": [
        "### Question 1.5: Co-Occurrence Plot Analysis [written] (3 points)\n",
        "\n",
        "Now we will put together all the parts you have written! We will compute the co-occurrence matrix with fixed window of 4 (the default window size), over the Reuters \"gold\" corpus. Then we will use TruncatedSVD to compute 2-dimensional embeddings of each word. TruncatedSVD returns U\\*S, so we need to normalize the returned vectors, so that all the vectors will appear around the unit circle (therefore closeness is directional closeness). **Note**: The line of code below that does the normalizing uses the NumPy concept of *broadcasting*. If you don't know about broadcasting, check out\n",
        "[Computation on Arrays: Broadcasting by Jake VanderPlas](https://jakevdp.github.io/PythonDataScienceHandbook/02.05-computation-on-arrays-broadcasting.html).\n",
        "\n",
        "Run the below cell to produce the plot. It'll probably take a few seconds to run."
      ]
    },
    {
      "cell_type": "code",
      "execution_count": 16,
      "metadata": {
        "id": "7L1Uk50mSSuD",
        "scrolled": false
      },
      "outputs": [
        {
          "name": "stdout",
          "output_type": "stream",
          "text": [
            "Running Truncated SVD over 2830 words...\n",
            "Done.\n"
          ]
        },
        {
          "data": {
            "image/png": "[encoded data removed]",
            "text/plain": [
              "<Figure size 1000x500 with 1 Axes>"
            ]
          },
          "metadata": {},
          "output_type": "display_data"
        }
      ],
      "source": [
        "# -----------------------------\n",
        "# Run This Cell to Produce Your Plot\n",
        "# ------------------------------\n",
        "reuters_corpus = read_corpus()\n",
        "M_co_occurrence, word2ind_co_occurrence = compute_co_occurrence_matrix(reuters_corpus)\n",
        "M_reduced_co_occurrence = reduce_to_k_dim(M_co_occurrence, k=2)\n",
        "\n",
        "# Rescale (normalize) the rows to make them each of unit-length\n",
        "M_lengths = np.linalg.norm(M_reduced_co_occurrence, axis=1)\n",
        "M_normalized = M_reduced_co_occurrence / M_lengths[:, np.newaxis] # broadcasting\n",
        "\n",
        "words = ['value', 'gold', 'platinum', 'reserves', 'silver', 'metals', 'copper', 'belgium', 'australia', 'china', 'grammes', \"mine\"]\n",
        "\n",
        "plot_embeddings(M_normalized, word2ind_co_occurrence, words)"
      ]
    },
    {
      "cell_type": "markdown",
      "metadata": {
        "id": "RtOd40JTSSuE"
      },
      "source": [
        "**Verify that your figure matches \"question_1.5.png\" in the assignment zip. If not, use that figure to answer the next two questions.**"
      ]
    },
    {
      "cell_type": "markdown",
      "metadata": {
        "id": "ciXWGMvRSSuE"
      },
      "source": [
        "a. Find at least two groups of words that cluster together in 2-dimensional embedding space. Give an explanation for each cluster you observe."
      ]
    },
    {
      "cell_type": "markdown",
      "metadata": {
        "id": "fLU7o3HESSuF"
      },
      "source": [
        "### SOLUTION BEGIN\n",
        "\n",
        "### SOLUTION END\n"
      ]
    },
    {
      "cell_type": "markdown",
      "metadata": {
        "id": "3H-tyA9RSSuF"
      },
      "source": [
        "b. What doesn't cluster together that you might think should have? Describe at least two examples."
      ]
    },
    {
      "cell_type": "markdown",
      "metadata": {
        "id": "3NG2j9J4SSuG"
      },
      "source": [
        "### SOLUTION BEGIN\n",
        "\n",
        "### SOLUTION END"
      ]
    },
    {
      "cell_type": "markdown",
      "metadata": {
        "id": "_h0OzAaRSSuI"
      },
      "source": [
        "## Part 2: Prediction-Based Word Vectors (15 points)\n",
        "\n",
        "As discussed in class, more recently prediction-based word vectors have demonstrated better performance, such as word2vec and GloVe (which also utilizes the benefit of counts). Here, we shall explore the embeddings produced by GloVe. Please revisit the class notes and lecture slides for more details on the word2vec and GloVe algorithms. If you're feeling adventurous, challenge yourself and try reading [GloVe's original paper](https://nlp.stanford.edu/pubs/glove.pdf).\n",
        "\n",
        "Then run the following cells to load the GloVe vectors into memory. **Note**: If this is your first time to run these cells, i.e. download the embedding model, it will take a couple minutes to run. If you've run these cells before, rerunning them will load the model without redownloading it, which will take about 1 to 2 minutes."
      ]
    },
    {
      "cell_type": "code",
      "execution_count": 17,
      "metadata": {
        "id": "l3kwvdksSSuI"
      },
      "outputs": [],
      "source": [
        "def load_embedding_model():\n",
        "    \"\"\" Load GloVe Vectors\n",
        "        Return:\n",
        "            wv_from_bin: All 400000 embeddings, each lengh 200\n",
        "    \"\"\"\n",
        "    import gensim.downloader as api\n",
        "    wv_from_bin = api.load(\"glove-wiki-gigaword-200\")\n",
        "    print(\"Loaded vocab size %i\" % len(list(wv_from_bin.index_to_key)))\n",
        "    return wv_from_bin"
      ]
    },
    {
      "cell_type": "code",
      "execution_count": 21,
      "metadata": {
        "id": "JCvVlSLZSSuJ",
        "scrolled": true
      },
      "outputs": [],
      "source": [
        "# -----------------------------------\n",
        "# Run Cell to Load Word Vectors\n",
        "# Note: This will take a couple minutes\n",
        "# -----------------------------------\n",
        "# wv_from_bin = load_embedding_model()\n",
        "#由于在国内，下载很慢就不下了，后面作业貌似也可有可无(或许)"
      ]
    },
    {
      "cell_type": "markdown",
      "metadata": {
        "id": "egIeG1RTSSuK"
      },
      "source": [
        "#### Note: If you are receiving a \"reset by peer\" error, rerun the cell to restart the download. If you run into an \"attribute\" error, you may need to update to the most recent version of gensim and numpy. You can upgrade them inline by uncommenting and running the below cell:"
      ]
    },
    {
      "cell_type": "code",
      "execution_count": 19,
      "metadata": {
        "id": "ZlF5fxSXcq95"
      },
      "outputs": [
        {
          "name": "stdout",
          "output_type": "stream",
          "text": [
            "Looking in indexes: https://pypi.tuna.tsinghua.edu.cn/simple"
          ]
        },
        {
          "name": "stderr",
          "output_type": "stream",
          "text": [
            "ERROR: Could not install packages due to an OSError: [WinError 5] 拒绝访问。: 'D:\\\\anaconda\\\\envs\\\\cs224n\\\\Lib\\\\site-packages\\\\~ensim\\\\corpora\\\\_mmreader.cp311-win_amd64.pyd'\n",
            "Consider using the `--user` option or check the permissions.\n",
            "\n"
          ]
        },
        {
          "name": "stdout",
          "output_type": "stream",
          "text": [
            "\n",
            "Requirement already satisfied: gensim in d:\\anaconda\\envs\\cs224n\\lib\\site-packages (4.3.0)\n",
            "Collecting gensim\n",
            "  Downloading https://pypi.tuna.tsinghua.edu.cn/packages/ad/97/b8253236dfedb9094f4273393a3fd03997da81f27f15822e56128da894ae/gensim-4.3.2-cp311-cp311-win_amd64.whl (24.0 MB)\n",
            "     ---------------------------------------- 0.0/24.0 MB ? eta -:--:--\n",
            "     ---------------------------------------- 0.1/24.0 MB 3.2 MB/s eta 0:00:08\n",
            "     ---------------------------------------- 0.1/24.0 MB 3.2 MB/s eta 0:00:08\n",
            "     --------------------------------------- 0.1/24.0 MB 655.4 kB/s eta 0:00:37\n",
            "     --------------------------------------- 0.1/24.0 MB 798.9 kB/s eta 0:00:30\n",
            "     --------------------------------------- 0.1/24.0 MB 798.9 kB/s eta 0:00:30\n",
            "     --------------------------------------- 0.2/24.0 MB 692.9 kB/s eta 0:00:35\n",
            "     --------------------------------------- 0.2/24.0 MB 692.9 kB/s eta 0:00:35\n",
            "     --------------------------------------- 0.3/24.0 MB 774.0 kB/s eta 0:00:31\n",
            "      -------------------------------------- 0.4/24.0 MB 928.4 kB/s eta 0:00:26\n",
            "      -------------------------------------- 0.4/24.0 MB 928.4 kB/s eta 0:00:26\n",
            "      --------------------------------------- 0.5/24.0 MB 1.2 MB/s eta 0:00:21\n",
            "     - -------------------------------------- 0.6/24.0 MB 1.1 MB/s eta 0:00:21\n",
            "     - -------------------------------------- 0.7/24.0 MB 1.2 MB/s eta 0:00:21\n",
            "     - -------------------------------------- 0.7/24.0 MB 1.2 MB/s eta 0:00:20\n",
            "     - -------------------------------------- 0.8/24.0 MB 1.1 MB/s eta 0:00:21\n",
            "     - -------------------------------------- 0.9/24.0 MB 1.2 MB/s eta 0:00:20\n",
            "     - -------------------------------------- 0.9/24.0 MB 1.2 MB/s eta 0:00:20\n",
            "     - -------------------------------------- 1.0/24.0 MB 1.2 MB/s eta 0:00:19\n",
            "     - -------------------------------------- 1.1/24.0 MB 1.3 MB/s eta 0:00:19\n",
            "     - -------------------------------------- 1.1/24.0 MB 1.2 MB/s eta 0:00:20\n",
            "     -- ------------------------------------- 1.2/24.0 MB 1.3 MB/s eta 0:00:18\n",
            "     -- ------------------------------------- 1.2/24.0 MB 1.3 MB/s eta 0:00:18\n",
            "     -- ------------------------------------- 1.4/24.0 MB 1.3 MB/s eta 0:00:17\n",
            "     -- ------------------------------------- 1.4/24.0 MB 1.3 MB/s eta 0:00:17\n",
            "     -- ------------------------------------- 1.5/24.0 MB 1.3 MB/s eta 0:00:18\n",
            "     -- ------------------------------------- 1.6/24.0 MB 1.4 MB/s eta 0:00:17\n",
            "     -- ------------------------------------- 1.7/24.0 MB 1.3 MB/s eta 0:00:17\n",
            "     -- ------------------------------------- 1.8/24.0 MB 1.4 MB/s eta 0:00:17\n",
            "     --- ------------------------------------ 1.9/24.0 MB 1.4 MB/s eta 0:00:16\n",
            "     --- ------------------------------------ 1.9/24.0 MB 1.4 MB/s eta 0:00:16\n",
            "     --- ------------------------------------ 1.9/24.0 MB 1.4 MB/s eta 0:00:17\n",
            "     --- ------------------------------------ 2.0/24.0 MB 1.4 MB/s eta 0:00:17\n",
            "     --- ------------------------------------ 2.1/24.0 MB 1.4 MB/s eta 0:00:16\n",
            "     --- ------------------------------------ 2.2/24.0 MB 1.4 MB/s eta 0:00:16\n",
            "     --- ------------------------------------ 2.2/24.0 MB 1.4 MB/s eta 0:00:16\n",
            "     --- ------------------------------------ 2.2/24.0 MB 1.3 MB/s eta 0:00:17\n",
            "     --- ------------------------------------ 2.3/24.0 MB 1.4 MB/s eta 0:00:16\n",
            "     --- ------------------------------------ 2.3/24.0 MB 1.3 MB/s eta 0:00:17\n",
            "     ---- ----------------------------------- 2.4/24.0 MB 1.4 MB/s eta 0:00:16\n",
            "     ---- ----------------------------------- 2.5/24.0 MB 1.4 MB/s eta 0:00:16\n",
            "     ---- ----------------------------------- 2.6/24.0 MB 1.4 MB/s eta 0:00:16\n",
            "     ---- ----------------------------------- 2.7/24.0 MB 1.4 MB/s eta 0:00:16\n",
            "     ---- ----------------------------------- 2.8/24.0 MB 1.4 MB/s eta 0:00:16\n",
            "     ---- ----------------------------------- 2.8/24.0 MB 1.4 MB/s eta 0:00:16\n",
            "     ---- ----------------------------------- 2.9/24.0 MB 1.4 MB/s eta 0:00:15\n",
            "     ---- ----------------------------------- 3.0/24.0 MB 1.4 MB/s eta 0:00:15\n",
            "     ---- ----------------------------------- 3.0/24.0 MB 1.4 MB/s eta 0:00:15\n",
            "     ----- ---------------------------------- 3.2/24.0 MB 1.4 MB/s eta 0:00:15\n",
            "     ----- ---------------------------------- 3.2/24.0 MB 1.4 MB/s eta 0:00:15\n",
            "     ----- ---------------------------------- 3.3/24.0 MB 1.4 MB/s eta 0:00:15\n",
            "     ----- ---------------------------------- 3.3/24.0 MB 1.4 MB/s eta 0:00:15\n",
            "     ----- ---------------------------------- 3.5/24.0 MB 1.5 MB/s eta 0:00:14\n",
            "     ----- ---------------------------------- 3.5/24.0 MB 1.5 MB/s eta 0:00:14\n",
            "     ----- ---------------------------------- 3.6/24.0 MB 1.4 MB/s eta 0:00:15\n",
            "     ------ --------------------------------- 3.7/24.0 MB 1.5 MB/s eta 0:00:14\n",
            "     ------ --------------------------------- 3.8/24.0 MB 1.5 MB/s eta 0:00:14\n",
            "     ------ --------------------------------- 3.9/24.0 MB 1.5 MB/s eta 0:00:14\n",
            "     ------ --------------------------------- 3.9/24.0 MB 1.5 MB/s eta 0:00:14\n",
            "     ------ --------------------------------- 4.1/24.0 MB 1.5 MB/s eta 0:00:14\n",
            "     ------ --------------------------------- 4.1/24.0 MB 1.5 MB/s eta 0:00:14\n",
            "     ------- -------------------------------- 4.2/24.0 MB 1.5 MB/s eta 0:00:14\n",
            "     ------- -------------------------------- 4.3/24.0 MB 1.5 MB/s eta 0:00:14\n",
            "     ------- -------------------------------- 4.4/24.0 MB 1.5 MB/s eta 0:00:13\n",
            "     ------- -------------------------------- 4.5/24.0 MB 1.5 MB/s eta 0:00:13\n",
            "     ------- -------------------------------- 4.6/24.0 MB 1.5 MB/s eta 0:00:13\n",
            "     ------- -------------------------------- 4.7/24.0 MB 1.6 MB/s eta 0:00:13\n",
            "     -------- ------------------------------- 4.8/24.0 MB 1.6 MB/s eta 0:00:13\n",
            "     -------- ------------------------------- 4.9/24.0 MB 1.6 MB/s eta 0:00:13\n",
            "     -------- ------------------------------- 5.0/24.0 MB 1.6 MB/s eta 0:00:13\n",
            "     -------- ------------------------------- 5.2/24.0 MB 1.6 MB/s eta 0:00:12\n",
            "     -------- ------------------------------- 5.2/24.0 MB 1.6 MB/s eta 0:00:12\n",
            "     -------- ------------------------------- 5.4/24.0 MB 1.6 MB/s eta 0:00:12\n",
            "     -------- ------------------------------- 5.4/24.0 MB 1.6 MB/s eta 0:00:12\n",
            "     -------- ------------------------------- 5.4/24.0 MB 1.6 MB/s eta 0:00:12\n",
            "     -------- ------------------------------- 5.4/24.0 MB 1.6 MB/s eta 0:00:12\n",
            "     --------- ------------------------------ 5.4/24.0 MB 1.6 MB/s eta 0:00:12\n",
            "     --------- ------------------------------ 5.6/24.0 MB 1.6 MB/s eta 0:00:12\n",
            "     --------- ------------------------------ 5.7/24.0 MB 1.6 MB/s eta 0:00:12\n",
            "     --------- ------------------------------ 5.9/24.0 MB 1.6 MB/s eta 0:00:12\n",
            "     --------- ------------------------------ 5.9/24.0 MB 1.6 MB/s eta 0:00:12\n",
            "     ---------- ----------------------------- 6.1/24.0 MB 1.6 MB/s eta 0:00:11\n",
            "     ---------- ----------------------------- 6.2/24.0 MB 1.6 MB/s eta 0:00:11\n",
            "     ---------- ----------------------------- 6.3/24.0 MB 1.6 MB/s eta 0:00:11\n",
            "     ---------- ----------------------------- 6.3/24.0 MB 1.6 MB/s eta 0:00:11\n",
            "     ---------- ----------------------------- 6.5/24.0 MB 1.7 MB/s eta 0:00:11\n",
            "     ---------- ----------------------------- 6.5/24.0 MB 1.7 MB/s eta 0:00:11\n",
            "     ---------- ----------------------------- 6.5/24.0 MB 1.7 MB/s eta 0:00:11\n",
            "     ----------- ---------------------------- 6.7/24.0 MB 1.6 MB/s eta 0:00:11\n",
            "     ----------- ---------------------------- 6.8/24.0 MB 1.7 MB/s eta 0:00:11\n",
            "     ----------- ---------------------------- 6.9/24.0 MB 1.7 MB/s eta 0:00:11\n",
            "     ----------- ---------------------------- 6.9/24.0 MB 1.7 MB/s eta 0:00:11\n",
            "     ----------- ---------------------------- 7.0/24.0 MB 1.6 MB/s eta 0:00:11\n",
            "     ----------- ---------------------------- 7.1/24.0 MB 1.7 MB/s eta 0:00:11\n",
            "     ----------- ---------------------------- 7.2/24.0 MB 1.6 MB/s eta 0:00:11\n",
            "     ------------ --------------------------- 7.2/24.0 MB 1.7 MB/s eta 0:00:11\n",
            "     ------------ --------------------------- 7.3/24.0 MB 1.6 MB/s eta 0:00:11\n",
            "     ------------ --------------------------- 7.4/24.0 MB 1.6 MB/s eta 0:00:11\n",
            "     ------------ --------------------------- 7.4/24.0 MB 1.6 MB/s eta 0:00:11\n",
            "     ------------ --------------------------- 7.5/24.0 MB 1.6 MB/s eta 0:00:11\n",
            "     ------------ --------------------------- 7.6/24.0 MB 1.6 MB/s eta 0:00:10\n",
            "     ------------ --------------------------- 7.7/24.0 MB 1.7 MB/s eta 0:00:10\n",
            "     ------------ --------------------------- 7.7/24.0 MB 1.7 MB/s eta 0:00:10\n",
            "     ------------ --------------------------- 7.8/24.0 MB 1.6 MB/s eta 0:00:10\n",
            "     ------------- -------------------------- 7.8/24.0 MB 1.6 MB/s eta 0:00:10\n",
            "     ------------- -------------------------- 7.9/24.0 MB 1.6 MB/s eta 0:00:10\n",
            "     ------------- -------------------------- 8.0/24.0 MB 1.6 MB/s eta 0:00:10\n",
            "     ------------- -------------------------- 8.1/24.0 MB 1.6 MB/s eta 0:00:10\n",
            "     ------------- -------------------------- 8.1/24.0 MB 1.6 MB/s eta 0:00:10\n",
            "     ------------- -------------------------- 8.2/24.0 MB 1.6 MB/s eta 0:00:10\n",
            "     ------------- -------------------------- 8.3/24.0 MB 1.6 MB/s eta 0:00:10\n",
            "     -------------- ------------------------- 8.4/24.0 MB 1.6 MB/s eta 0:00:10\n",
            "     -------------- ------------------------- 8.5/24.0 MB 1.6 MB/s eta 0:00:10\n",
            "     -------------- ------------------------- 8.6/24.0 MB 1.6 MB/s eta 0:00:10\n",
            "     -------------- ------------------------- 8.7/24.0 MB 1.7 MB/s eta 0:00:10\n",
            "     -------------- ------------------------- 8.7/24.0 MB 1.7 MB/s eta 0:00:10\n",
            "     -------------- ------------------------- 8.8/24.0 MB 1.6 MB/s eta 0:00:10\n",
            "     -------------- ------------------------- 8.9/24.0 MB 1.6 MB/s eta 0:00:10\n",
            "     --------------- ------------------------ 9.1/24.0 MB 1.7 MB/s eta 0:00:09\n",
            "     --------------- ------------------------ 9.1/24.0 MB 1.7 MB/s eta 0:00:09\n",
            "     --------------- ------------------------ 9.1/24.0 MB 1.6 MB/s eta 0:00:10\n",
            "     --------------- ------------------------ 9.3/24.0 MB 1.7 MB/s eta 0:00:09\n",
            "     --------------- ------------------------ 9.3/24.0 MB 1.7 MB/s eta 0:00:09\n",
            "     --------------- ------------------------ 9.4/24.0 MB 1.7 MB/s eta 0:00:09\n",
            "     --------------- ------------------------ 9.4/24.0 MB 1.7 MB/s eta 0:00:09\n",
            "     --------------- ------------------------ 9.6/24.0 MB 1.7 MB/s eta 0:00:09\n",
            "     ---------------- ----------------------- 9.6/24.0 MB 1.6 MB/s eta 0:00:09\n",
            "     ---------------- ----------------------- 9.7/24.0 MB 1.7 MB/s eta 0:00:09\n",
            "     ---------------- ----------------------- 9.8/24.0 MB 1.7 MB/s eta 0:00:09\n",
            "     ---------------- ----------------------- 10.0/24.0 MB 1.7 MB/s eta 0:00:09\n",
            "     ---------------- ----------------------- 10.0/24.0 MB 1.7 MB/s eta 0:00:09\n",
            "     ---------------- ----------------------- 10.0/24.0 MB 1.7 MB/s eta 0:00:09\n",
            "     ---------------- ----------------------- 10.1/24.0 MB 1.7 MB/s eta 0:00:09\n",
            "     ----------------- ---------------------- 10.2/24.0 MB 1.7 MB/s eta 0:00:09\n",
            "     ----------------- ---------------------- 10.3/24.0 MB 1.7 MB/s eta 0:00:09\n",
            "     ----------------- ---------------------- 10.3/24.0 MB 1.7 MB/s eta 0:00:09\n",
            "     ----------------- ---------------------- 10.5/24.0 MB 1.7 MB/s eta 0:00:08\n",
            "     ----------------- ---------------------- 10.5/24.0 MB 1.7 MB/s eta 0:00:08\n",
            "     ----------------- ---------------------- 10.7/24.0 MB 1.7 MB/s eta 0:00:08\n",
            "     ----------------- ---------------------- 10.7/24.0 MB 1.7 MB/s eta 0:00:08\n",
            "     ----------------- ---------------------- 10.8/24.0 MB 1.7 MB/s eta 0:00:08\n",
            "     ----------------- ---------------------- 10.8/24.0 MB 1.7 MB/s eta 0:00:08\n",
            "     ----------------- ---------------------- 10.8/24.0 MB 1.7 MB/s eta 0:00:08\n",
            "     ----------------- ---------------------- 10.8/24.0 MB 1.7 MB/s eta 0:00:08\n",
            "     ----------------- ---------------------- 10.8/24.0 MB 1.7 MB/s eta 0:00:08\n",
            "     ----------------- ---------------------- 10.8/24.0 MB 1.7 MB/s eta 0:00:08\n",
            "     ----------------- ---------------------- 10.8/24.0 MB 1.7 MB/s eta 0:00:08\n",
            "     ----------------- ---------------------- 10.8/24.0 MB 1.7 MB/s eta 0:00:08\n",
            "     ----------------- ---------------------- 10.8/24.0 MB 1.7 MB/s eta 0:00:08\n",
            "     ----------------- ---------------------- 10.8/24.0 MB 1.7 MB/s eta 0:00:08\n",
            "     ----------------- ---------------------- 10.8/24.0 MB 1.7 MB/s eta 0:00:08\n",
            "     ----------------- ---------------------- 10.8/24.0 MB 1.7 MB/s eta 0:00:08\n",
            "     ----------------- ---------------------- 10.8/24.0 MB 1.7 MB/s eta 0:00:08\n",
            "     ------------------ --------------------- 11.3/24.0 MB 1.7 MB/s eta 0:00:08\n",
            "     ------------------ --------------------- 11.3/24.0 MB 1.7 MB/s eta 0:00:08\n",
            "     ------------------- -------------------- 11.5/24.0 MB 1.7 MB/s eta 0:00:08\n",
            "     ------------------- -------------------- 11.5/24.0 MB 1.7 MB/s eta 0:00:08\n",
            "     ------------------- -------------------- 11.5/24.0 MB 1.7 MB/s eta 0:00:08\n",
            "     ------------------- -------------------- 11.6/24.0 MB 1.6 MB/s eta 0:00:08\n",
            "     ------------------- -------------------- 11.6/24.0 MB 1.6 MB/s eta 0:00:08\n",
            "     ------------------- -------------------- 11.6/24.0 MB 1.6 MB/s eta 0:00:08\n",
            "     ------------------- -------------------- 11.7/24.0 MB 1.6 MB/s eta 0:00:08\n",
            "     ------------------- -------------------- 11.9/24.0 MB 1.6 MB/s eta 0:00:08\n",
            "     ------------------- -------------------- 11.9/24.0 MB 1.6 MB/s eta 0:00:08\n",
            "     ------------------- -------------------- 11.9/24.0 MB 1.6 MB/s eta 0:00:08\n",
            "     ------------------- -------------------- 12.0/24.0 MB 1.6 MB/s eta 0:00:08\n",
            "     -------------------- ------------------- 12.2/24.0 MB 1.6 MB/s eta 0:00:08\n",
            "     -------------------- ------------------- 12.3/24.0 MB 1.6 MB/s eta 0:00:08\n",
            "     -------------------- ------------------- 12.4/24.0 MB 1.6 MB/s eta 0:00:08\n",
            "     -------------------- ------------------- 12.5/24.0 MB 1.7 MB/s eta 0:00:07\n",
            "     -------------------- ------------------- 12.5/24.0 MB 1.7 MB/s eta 0:00:07\n",
            "     -------------------- ------------------- 12.5/24.0 MB 1.7 MB/s eta 0:00:07\n",
            "     -------------------- ------------------- 12.5/24.0 MB 1.7 MB/s eta 0:00:07\n",
            "     -------------------- ------------------- 12.5/24.0 MB 1.7 MB/s eta 0:00:07\n",
            "     -------------------- ------------------- 12.5/24.0 MB 1.7 MB/s eta 0:00:07\n",
            "     -------------------- ------------------- 12.5/24.0 MB 1.7 MB/s eta 0:00:07\n",
            "     -------------------- ------------------- 12.5/24.0 MB 1.6 MB/s eta 0:00:08\n",
            "     --------------------- ------------------ 12.6/24.0 MB 1.6 MB/s eta 0:00:08\n",
            "     --------------------- ------------------ 12.7/24.0 MB 1.6 MB/s eta 0:00:08\n",
            "     --------------------- ------------------ 12.7/24.0 MB 1.6 MB/s eta 0:00:08\n",
            "     --------------------- ------------------ 12.7/24.0 MB 1.6 MB/s eta 0:00:08\n",
            "     --------------------- ------------------ 12.8/24.0 MB 1.6 MB/s eta 0:00:08\n",
            "     --------------------- ------------------ 12.8/24.0 MB 1.6 MB/s eta 0:00:08\n",
            "     --------------------- ------------------ 12.9/24.0 MB 1.6 MB/s eta 0:00:08\n",
            "     --------------------- ------------------ 12.9/24.0 MB 1.6 MB/s eta 0:00:08\n",
            "     --------------------- ------------------ 13.0/24.0 MB 1.6 MB/s eta 0:00:08\n",
            "     --------------------- ------------------ 13.0/24.0 MB 1.6 MB/s eta 0:00:08\n",
            "     --------------------- ------------------ 13.1/24.0 MB 1.6 MB/s eta 0:00:08\n",
            "     --------------------- ------------------ 13.2/24.0 MB 1.6 MB/s eta 0:00:07\n",
            "     ---------------------- ----------------- 13.3/24.0 MB 1.6 MB/s eta 0:00:07\n",
            "     ---------------------- ----------------- 13.3/24.0 MB 1.6 MB/s eta 0:00:07\n",
            "     ---------------------- ----------------- 13.4/24.0 MB 1.5 MB/s eta 0:00:07\n",
            "     ---------------------- ----------------- 13.4/24.0 MB 1.5 MB/s eta 0:00:07\n",
            "     ---------------------- ----------------- 13.5/24.0 MB 1.5 MB/s eta 0:00:07\n",
            "     ---------------------- ----------------- 13.5/24.0 MB 1.5 MB/s eta 0:00:07\n",
            "     ---------------------- ----------------- 13.6/24.0 MB 1.5 MB/s eta 0:00:07\n",
            "     ---------------------- ----------------- 13.6/24.0 MB 1.5 MB/s eta 0:00:07\n",
            "     ---------------------- ----------------- 13.6/24.0 MB 1.5 MB/s eta 0:00:07\n",
            "     ---------------------- ----------------- 13.6/24.0 MB 1.5 MB/s eta 0:00:07\n",
            "     ---------------------- ----------------- 13.6/24.0 MB 1.5 MB/s eta 0:00:07\n",
            "     ---------------------- ----------------- 13.7/24.0 MB 1.5 MB/s eta 0:00:07\n",
            "     ---------------------- ----------------- 13.7/24.0 MB 1.5 MB/s eta 0:00:07\n",
            "     ---------------------- ----------------- 13.7/24.0 MB 1.5 MB/s eta 0:00:07\n",
            "     ---------------------- ----------------- 13.7/24.0 MB 1.5 MB/s eta 0:00:07\n",
            "     ---------------------- ----------------- 13.7/24.0 MB 1.5 MB/s eta 0:00:07\n",
            "     ---------------------- ----------------- 13.7/24.0 MB 1.5 MB/s eta 0:00:07\n",
            "     ---------------------- ----------------- 13.7/24.0 MB 1.5 MB/s eta 0:00:07\n",
            "     ---------------------- ----------------- 13.7/24.0 MB 1.5 MB/s eta 0:00:07\n",
            "     ---------------------- ----------------- 13.7/24.0 MB 1.5 MB/s eta 0:00:07\n",
            "     ---------------------- ----------------- 13.7/24.0 MB 1.5 MB/s eta 0:00:07\n",
            "     ---------------------- ----------------- 13.7/24.0 MB 1.5 MB/s eta 0:00:07\n",
            "     ---------------------- ----------------- 13.7/24.0 MB 1.5 MB/s eta 0:00:07\n",
            "     ---------------------- ----------------- 13.7/24.0 MB 1.5 MB/s eta 0:00:07\n",
            "     ---------------------- ----------------- 13.7/24.0 MB 1.5 MB/s eta 0:00:07\n",
            "     ---------------------- ----------------- 13.7/24.0 MB 1.5 MB/s eta 0:00:07\n",
            "     ----------------------- ---------------- 14.2/24.0 MB 1.4 MB/s eta 0:00:07\n",
            "     ----------------------- ---------------- 14.2/24.0 MB 1.4 MB/s eta 0:00:07\n",
            "     ----------------------- ---------------- 14.3/24.0 MB 1.4 MB/s eta 0:00:07\n",
            "     ------------------------ --------------- 14.4/24.0 MB 1.4 MB/s eta 0:00:07\n",
            "     ------------------------ --------------- 14.5/24.0 MB 1.4 MB/s eta 0:00:07\n",
            "     ------------------------ --------------- 14.6/24.0 MB 1.4 MB/s eta 0:00:07\n",
            "     ------------------------ --------------- 14.6/24.0 MB 1.4 MB/s eta 0:00:07\n",
            "     ------------------------ --------------- 14.8/24.0 MB 1.4 MB/s eta 0:00:07\n",
            "     ------------------------ --------------- 14.8/24.0 MB 1.4 MB/s eta 0:00:07\n",
            "     ------------------------ --------------- 14.8/24.0 MB 1.4 MB/s eta 0:00:07\n",
            "     ------------------------ --------------- 14.8/24.0 MB 1.4 MB/s eta 0:00:07\n",
            "     ------------------------ --------------- 14.9/24.0 MB 1.4 MB/s eta 0:00:07\n",
            "     ------------------------ --------------- 14.9/24.0 MB 1.4 MB/s eta 0:00:07\n",
            "     ------------------------ --------------- 15.0/24.0 MB 1.4 MB/s eta 0:00:07\n",
            "     ------------------------- -------------- 15.1/24.0 MB 1.4 MB/s eta 0:00:07\n",
            "     ------------------------- -------------- 15.1/24.0 MB 1.4 MB/s eta 0:00:07\n",
            "     ------------------------- -------------- 15.1/24.0 MB 1.4 MB/s eta 0:00:07\n",
            "     ------------------------- -------------- 15.1/24.0 MB 1.4 MB/s eta 0:00:07\n",
            "     ------------------------- -------------- 15.2/24.0 MB 1.3 MB/s eta 0:00:07\n",
            "     ------------------------- -------------- 15.2/24.0 MB 1.3 MB/s eta 0:00:07\n",
            "     ------------------------- -------------- 15.3/24.0 MB 1.3 MB/s eta 0:00:07\n",
            "     ------------------------- -------------- 15.3/24.0 MB 1.3 MB/s eta 0:00:07\n",
            "     ------------------------- -------------- 15.4/24.0 MB 1.3 MB/s eta 0:00:07\n",
            "     ------------------------- -------------- 15.5/24.0 MB 1.3 MB/s eta 0:00:07\n",
            "     ------------------------- -------------- 15.6/24.0 MB 1.3 MB/s eta 0:00:07\n",
            "     -------------------------- ------------- 15.7/24.0 MB 1.3 MB/s eta 0:00:07\n",
            "     -------------------------- ------------- 15.7/24.0 MB 1.3 MB/s eta 0:00:07\n",
            "     -------------------------- ------------- 15.7/24.0 MB 1.3 MB/s eta 0:00:07\n",
            "     -------------------------- ------------- 15.8/24.0 MB 1.3 MB/s eta 0:00:07\n",
            "     -------------------------- ------------- 15.9/24.0 MB 1.3 MB/s eta 0:00:07\n",
            "     -------------------------- ------------- 15.9/24.0 MB 1.3 MB/s eta 0:00:07\n",
            "     -------------------------- ------------- 16.0/24.0 MB 1.3 MB/s eta 0:00:07\n",
            "     -------------------------- ------------- 16.1/24.0 MB 1.3 MB/s eta 0:00:07\n",
            "     -------------------------- ------------- 16.1/24.0 MB 1.3 MB/s eta 0:00:06\n",
            "     --------------------------- ------------ 16.2/24.0 MB 1.3 MB/s eta 0:00:06\n",
            "     --------------------------- ------------ 16.3/24.0 MB 1.3 MB/s eta 0:00:06\n",
            "     --------------------------- ------------ 16.3/24.0 MB 1.3 MB/s eta 0:00:06\n",
            "     --------------------------- ------------ 16.4/24.0 MB 1.3 MB/s eta 0:00:06\n",
            "     --------------------------- ------------ 16.5/24.0 MB 1.3 MB/s eta 0:00:06\n",
            "     --------------------------- ------------ 16.5/24.0 MB 1.3 MB/s eta 0:00:06\n",
            "     --------------------------- ------------ 16.5/24.0 MB 1.3 MB/s eta 0:00:06\n",
            "     --------------------------- ------------ 16.6/24.0 MB 1.3 MB/s eta 0:00:06\n",
            "     --------------------------- ------------ 16.6/24.0 MB 1.3 MB/s eta 0:00:06\n",
            "     --------------------------- ------------ 16.7/24.0 MB 1.3 MB/s eta 0:00:06\n",
            "     --------------------------- ------------ 16.7/24.0 MB 1.3 MB/s eta 0:00:06\n",
            "     --------------------------- ------------ 16.7/24.0 MB 1.3 MB/s eta 0:00:06\n",
            "     --------------------------- ------------ 16.7/24.0 MB 1.3 MB/s eta 0:00:06\n",
            "     --------------------------- ------------ 16.8/24.0 MB 1.2 MB/s eta 0:00:06\n",
            "     --------------------------- ------------ 16.8/24.0 MB 1.3 MB/s eta 0:00:06\n",
            "     ---------------------------- ----------- 16.9/24.0 MB 1.2 MB/s eta 0:00:06\n",
            "     ---------------------------- ----------- 16.9/24.0 MB 1.2 MB/s eta 0:00:06\n",
            "     ---------------------------- ----------- 16.9/24.0 MB 1.2 MB/s eta 0:00:06\n",
            "     ---------------------------- ----------- 17.0/24.0 MB 1.2 MB/s eta 0:00:06\n",
            "     ---------------------------- ----------- 17.0/24.0 MB 1.2 MB/s eta 0:00:06\n",
            "     ---------------------------- ----------- 17.0/24.0 MB 1.2 MB/s eta 0:00:06\n",
            "     ---------------------------- ----------- 17.1/24.0 MB 1.2 MB/s eta 0:00:06\n",
            "     ---------------------------- ----------- 17.1/24.0 MB 1.2 MB/s eta 0:00:06\n",
            "     ---------------------------- ----------- 17.2/24.0 MB 1.2 MB/s eta 0:00:06\n",
            "     ---------------------------- ----------- 17.2/24.0 MB 1.2 MB/s eta 0:00:06\n",
            "     ---------------------------- ----------- 17.3/24.0 MB 1.2 MB/s eta 0:00:06\n",
            "     ---------------------------- ----------- 17.4/24.0 MB 1.2 MB/s eta 0:00:06\n",
            "     ---------------------------- ----------- 17.4/24.0 MB 1.2 MB/s eta 0:00:06\n",
            "     ----------------------------- ---------- 17.5/24.0 MB 1.2 MB/s eta 0:00:06\n",
            "     ----------------------------- ---------- 17.6/24.0 MB 1.2 MB/s eta 0:00:06\n",
            "     ----------------------------- ---------- 17.6/24.0 MB 1.2 MB/s eta 0:00:06\n",
            "     ----------------------------- ---------- 17.7/24.0 MB 1.2 MB/s eta 0:00:06\n",
            "     ----------------------------- ---------- 17.7/24.0 MB 1.2 MB/s eta 0:00:06\n",
            "     ----------------------------- ---------- 17.8/24.0 MB 1.2 MB/s eta 0:00:06\n",
            "     ----------------------------- ---------- 17.8/24.0 MB 1.2 MB/s eta 0:00:06\n",
            "     ----------------------------- ---------- 17.9/24.0 MB 1.2 MB/s eta 0:00:06\n",
            "     ----------------------------- ---------- 18.0/24.0 MB 1.2 MB/s eta 0:00:06\n",
            "     ----------------------------- ---------- 18.0/24.0 MB 1.2 MB/s eta 0:00:06\n",
            "     ----------------------------- ---------- 18.0/24.0 MB 1.2 MB/s eta 0:00:06\n",
            "     ----------------------------- ---------- 18.0/24.0 MB 1.2 MB/s eta 0:00:06\n",
            "     ----------------------------- ---------- 18.0/24.0 MB 1.2 MB/s eta 0:00:06\n",
            "     ------------------------------ --------- 18.0/24.0 MB 1.2 MB/s eta 0:00:06\n",
            "     ------------------------------ --------- 18.1/24.0 MB 1.2 MB/s eta 0:00:06\n",
            "     ------------------------------ --------- 18.1/24.0 MB 1.2 MB/s eta 0:00:06\n",
            "     ------------------------------ --------- 18.2/24.0 MB 1.2 MB/s eta 0:00:05\n",
            "     ------------------------------ --------- 18.3/24.0 MB 1.2 MB/s eta 0:00:05\n",
            "     ------------------------------ --------- 18.4/24.0 MB 1.2 MB/s eta 0:00:05\n",
            "     ------------------------------ --------- 18.4/24.0 MB 1.2 MB/s eta 0:00:05\n",
            "     ------------------------------ --------- 18.5/24.0 MB 1.1 MB/s eta 0:00:05\n",
            "     ------------------------------ --------- 18.6/24.0 MB 1.1 MB/s eta 0:00:05\n",
            "     ------------------------------ --------- 18.6/24.0 MB 1.1 MB/s eta 0:00:05\n",
            "     ------------------------------ --------- 18.6/24.0 MB 1.1 MB/s eta 0:00:05\n",
            "     ------------------------------ --------- 18.6/24.0 MB 1.1 MB/s eta 0:00:05\n",
            "     ------------------------------ --------- 18.6/24.0 MB 1.1 MB/s eta 0:00:05\n",
            "     ------------------------------- -------- 18.6/24.0 MB 1.1 MB/s eta 0:00:05\n",
            "     ------------------------------- -------- 18.7/24.0 MB 1.1 MB/s eta 0:00:05\n",
            "     ------------------------------- -------- 18.7/24.0 MB 1.1 MB/s eta 0:00:05\n",
            "     ------------------------------- -------- 18.7/24.0 MB 1.1 MB/s eta 0:00:05\n",
            "     ------------------------------- -------- 18.7/24.0 MB 1.1 MB/s eta 0:00:05\n",
            "     ------------------------------- -------- 18.8/24.0 MB 1.1 MB/s eta 0:00:05\n",
            "     ------------------------------- -------- 18.8/24.0 MB 1.1 MB/s eta 0:00:05\n",
            "     ------------------------------- -------- 18.9/24.0 MB 1.1 MB/s eta 0:00:05\n",
            "     ------------------------------- -------- 18.9/24.0 MB 1.1 MB/s eta 0:00:05\n",
            "     ------------------------------- -------- 19.0/24.0 MB 1.1 MB/s eta 0:00:05\n",
            "     ------------------------------- -------- 19.0/24.0 MB 1.1 MB/s eta 0:00:05\n",
            "     ------------------------------- -------- 19.1/24.0 MB 1.1 MB/s eta 0:00:05\n",
            "     ------------------------------- -------- 19.2/24.0 MB 1.1 MB/s eta 0:00:05\n",
            "     ------------------------------- -------- 19.2/24.0 MB 1.1 MB/s eta 0:00:05\n",
            "     -------------------------------- ------- 19.2/24.0 MB 1.1 MB/s eta 0:00:05\n",
            "     -------------------------------- ------- 19.2/24.0 MB 1.1 MB/s eta 0:00:05\n",
            "     -------------------------------- ------- 19.3/24.0 MB 1.1 MB/s eta 0:00:05\n",
            "     -------------------------------- ------- 19.3/24.0 MB 1.1 MB/s eta 0:00:05\n",
            "     -------------------------------- ------- 19.4/24.0 MB 1.1 MB/s eta 0:00:05\n",
            "     -------------------------------- ------- 19.4/24.0 MB 1.1 MB/s eta 0:00:05\n",
            "     -------------------------------- ------- 19.4/24.0 MB 1.1 MB/s eta 0:00:05\n",
            "     -------------------------------- ------- 19.5/24.0 MB 1.1 MB/s eta 0:00:05\n",
            "     -------------------------------- ------- 19.5/24.0 MB 1.1 MB/s eta 0:00:05\n",
            "     -------------------------------- ------- 19.5/24.0 MB 1.1 MB/s eta 0:00:05\n",
            "     -------------------------------- ------- 19.5/24.0 MB 1.1 MB/s eta 0:00:05\n",
            "     -------------------------------- ------- 19.6/24.0 MB 1.1 MB/s eta 0:00:05\n",
            "     -------------------------------- ------- 19.6/24.0 MB 1.1 MB/s eta 0:00:05\n",
            "     -------------------------------- ------- 19.6/24.0 MB 1.0 MB/s eta 0:00:05\n",
            "     -------------------------------- ------- 19.6/24.0 MB 1.0 MB/s eta 0:00:05\n",
            "     -------------------------------- ------- 19.6/24.0 MB 1.0 MB/s eta 0:00:05\n",
            "     -------------------------------- ------- 19.7/24.0 MB 1.0 MB/s eta 0:00:05\n",
            "     -------------------------------- ------- 19.7/24.0 MB 1.0 MB/s eta 0:00:05\n",
            "     -------------------------------- ------- 19.8/24.0 MB 1.0 MB/s eta 0:00:05\n",
            "     -------------------------------- ------- 19.8/24.0 MB 1.0 MB/s eta 0:00:05\n",
            "     -------------------------------- ------- 19.8/24.0 MB 1.0 MB/s eta 0:00:05\n",
            "     --------------------------------- ------ 19.8/24.0 MB 1.0 MB/s eta 0:00:05\n",
            "     --------------------------------- ------ 19.9/24.0 MB 1.0 MB/s eta 0:00:05\n",
            "     --------------------------------- ------ 20.0/24.0 MB 1.0 MB/s eta 0:00:04\n",
            "     --------------------------------- ------ 20.0/24.0 MB 1.0 MB/s eta 0:00:04\n",
            "     --------------------------------- ------ 20.0/24.0 MB 1.0 MB/s eta 0:00:04\n",
            "     --------------------------------- ------ 20.2/24.0 MB 1.0 MB/s eta 0:00:04\n",
            "     --------------------------------- ------ 20.2/24.0 MB 1.0 MB/s eta 0:00:04\n",
            "     --------------------------------- ------ 20.2/24.0 MB 1.0 MB/s eta 0:00:04\n",
            "     --------------------------------- ------ 20.3/24.0 MB 1.0 MB/s eta 0:00:04\n",
            "     --------------------------------- ------ 20.4/24.0 MB 1.0 MB/s eta 0:00:04\n",
            "     ---------------------------------- ----- 20.4/24.0 MB 1.0 MB/s eta 0:00:04\n",
            "     ---------------------------------- ----- 20.4/24.0 MB 1.0 MB/s eta 0:00:04\n",
            "     ---------------------------------- ----- 20.7/24.0 MB 1.0 MB/s eta 0:00:04\n",
            "     ---------------------------------- ----- 20.7/24.0 MB 1.0 MB/s eta 0:00:04\n",
            "     ---------------------------------- ----- 20.8/24.0 MB 1.0 MB/s eta 0:00:04\n",
            "     ---------------------------------- ----- 20.8/24.0 MB 1.0 MB/s eta 0:00:04\n",
            "     ---------------------------------- ----- 20.8/24.0 MB 1.0 MB/s eta 0:00:04\n",
            "     -------------------------------- ----- 20.8/24.0 MB 995.0 kB/s eta 0:00:04\n",
            "     --------------------------------- ---- 20.9/24.0 MB 992.0 kB/s eta 0:00:04\n",
            "     --------------------------------- ---- 20.9/24.0 MB 990.5 kB/s eta 0:00:04\n",
            "     --------------------------------- ---- 20.9/24.0 MB 989.0 kB/s eta 0:00:04\n",
            "     --------------------------------- ---- 21.0/24.0 MB 986.0 kB/s eta 0:00:04\n",
            "     --------------------------------- ---- 21.0/24.0 MB 986.0 kB/s eta 0:00:04\n",
            "     ----------------------------------- ---- 21.1/24.0 MB 1.0 MB/s eta 0:00:03\n",
            "     ----------------------------------- ---- 21.1/24.0 MB 1.0 MB/s eta 0:00:03\n",
            "     ----------------------------------- ---- 21.1/24.0 MB 1.0 MB/s eta 0:00:03\n",
            "     ----------------------------------- ---- 21.2/24.0 MB 1.0 MB/s eta 0:00:03\n",
            "     ----------------------------------- ---- 21.2/24.0 MB 1.0 MB/s eta 0:00:03\n",
            "     ----------------------------------- ---- 21.3/24.0 MB 1.0 MB/s eta 0:00:03\n",
            "     ----------------------------------- ---- 21.4/24.0 MB 1.0 MB/s eta 0:00:03\n",
            "     ----------------------------------- ---- 21.4/24.0 MB 1.0 MB/s eta 0:00:03\n",
            "     ----------------------------------- ---- 21.5/24.0 MB 1.0 MB/s eta 0:00:03\n",
            "     ------------------------------------ --- 21.6/24.0 MB 1.0 MB/s eta 0:00:03\n",
            "     ------------------------------------ --- 21.7/24.0 MB 1.0 MB/s eta 0:00:03\n",
            "     ------------------------------------ --- 21.8/24.0 MB 1.0 MB/s eta 0:00:03\n",
            "     ------------------------------------ --- 21.9/24.0 MB 1.0 MB/s eta 0:00:03\n",
            "     ------------------------------------ --- 21.9/24.0 MB 1.0 MB/s eta 0:00:03\n",
            "     ------------------------------------ --- 21.9/24.0 MB 1.0 MB/s eta 0:00:03\n",
            "     ------------------------------------ --- 22.0/24.0 MB 1.0 MB/s eta 0:00:02\n",
            "     ------------------------------------ --- 22.1/24.0 MB 1.0 MB/s eta 0:00:02\n",
            "     ------------------------------------ --- 22.1/24.0 MB 1.0 MB/s eta 0:00:02\n",
            "     ------------------------------------ --- 22.2/24.0 MB 1.0 MB/s eta 0:00:02\n",
            "     ------------------------------------- -- 22.3/24.0 MB 1.0 MB/s eta 0:00:02\n",
            "     ------------------------------------- -- 22.4/24.0 MB 1.0 MB/s eta 0:00:02\n",
            "     ------------------------------------- -- 22.5/24.0 MB 1.0 MB/s eta 0:00:02\n",
            "     ----------------------------------- -- 22.5/24.0 MB 998.0 kB/s eta 0:00:02\n",
            "     ----------------------------------- -- 22.5/24.0 MB 998.0 kB/s eta 0:00:02\n",
            "     ----------------------------------- -- 22.6/24.0 MB 993.6 kB/s eta 0:00:02\n",
            "     ----------------------------------- -- 22.6/24.0 MB 995.0 kB/s eta 0:00:02\n",
            "     ----------------------------------- -- 22.7/24.0 MB 989.0 kB/s eta 0:00:02\n",
            "     -------------------------------------- - 22.8/24.0 MB 1.0 MB/s eta 0:00:02\n",
            "     -------------------------------------- - 22.9/24.0 MB 1.0 MB/s eta 0:00:02\n",
            "     -------------------------------------- - 23.0/24.0 MB 1.0 MB/s eta 0:00:02\n",
            "     -------------------------------------- - 23.0/24.0 MB 1.0 MB/s eta 0:00:01\n",
            "     -------------------------------------- - 23.2/24.0 MB 1.0 MB/s eta 0:00:01\n",
            "     -------------------------------------- - 23.3/24.0 MB 1.0 MB/s eta 0:00:01\n",
            "     -------------------------------------- - 23.4/24.0 MB 1.0 MB/s eta 0:00:01\n",
            "     ---------------------------------------  23.5/24.0 MB 1.0 MB/s eta 0:00:01\n",
            "     ---------------------------------------  23.6/24.0 MB 1.0 MB/s eta 0:00:01\n",
            "     ---------------------------------------  23.6/24.0 MB 1.0 MB/s eta 0:00:01\n",
            "     ---------------------------------------  23.7/24.0 MB 1.1 MB/s eta 0:00:01\n",
            "     ---------------------------------------  23.8/24.0 MB 1.1 MB/s eta 0:00:01\n",
            "     ---------------------------------------  23.8/24.0 MB 1.1 MB/s eta 0:00:01\n",
            "     ---------------------------------------  23.9/24.0 MB 1.1 MB/s eta 0:00:01\n",
            "     ---------------------------------------  24.0/24.0 MB 1.2 MB/s eta 0:00:01\n",
            "     ---------------------------------------  24.0/24.0 MB 1.1 MB/s eta 0:00:01\n",
            "     ---------------------------------------- 24.0/24.0 MB 1.1 MB/s eta 0:00:00\n",
            "Requirement already satisfied: numpy>=1.18.5 in d:\\anaconda\\envs\\cs224n\\lib\\site-packages (from gensim) (1.24.3)\n",
            "Requirement already satisfied: scipy>=1.7.0 in d:\\anaconda\\envs\\cs224n\\lib\\site-packages (from gensim) (1.10.1)\n",
            "Requirement already satisfied: smart-open>=1.8.1 in d:\\anaconda\\envs\\cs224n\\lib\\site-packages (from gensim) (5.2.1)\n",
            "Installing collected packages: gensim\n",
            "  Attempting uninstall: gensim\n",
            "    Found existing installation: gensim 4.3.0\n",
            "    Uninstalling gensim-4.3.0:\n",
            "      Successfully uninstalled gensim-4.3.0\n",
            "Looking in indexes: https://pypi.tuna.tsinghua.edu.cn/simple\n",
            "Requirement already satisfied: numpy in d:\\anaconda\\envs\\cs224n\\lib\\site-packages (1.24.3)\n",
            "Collecting numpy\n",
            "  Downloading https://pypi.tuna.tsinghua.edu.cn/packages/82/0f/3f712cd84371636c5375d2dd70e7514d264cec6bdfc3d7997a4236e9f948/numpy-1.26.1-cp311-cp311-win_amd64.whl (15.8 MB)\n",
            "     ---------------------------------------- 0.0/15.8 MB ? eta -:--:--\n",
            "     ---------------------------------------- 0.0/15.8 MB ? eta -:--:--\n",
            "     ---------------------------------------- 0.0/15.8 MB ? eta -:--:--\n",
            "     ---------------------------------------- 0.0/15.8 MB ? eta -:--:--\n",
            "     --------------------------------------- 0.0/15.8 MB 196.9 kB/s eta 0:01:21\n",
            "     --------------------------------------- 0.0/15.8 MB 196.9 kB/s eta 0:01:21\n",
            "     --------------------------------------- 0.0/15.8 MB 196.9 kB/s eta 0:01:21\n",
            "     --------------------------------------- 0.1/15.8 MB 206.9 kB/s eta 0:01:17\n",
            "     --------------------------------------- 0.1/15.8 MB 238.8 kB/s eta 0:01:06\n",
            "     --------------------------------------- 0.1/15.8 MB 238.8 kB/s eta 0:01:06\n",
            "     --------------------------------------- 0.2/15.8 MB 328.1 kB/s eta 0:00:48\n",
            "     --------------------------------------- 0.2/15.8 MB 328.1 kB/s eta 0:00:48\n",
            "     --------------------------------------- 0.2/15.8 MB 327.7 kB/s eta 0:00:48\n",
            "      -------------------------------------- 0.2/15.8 MB 336.6 kB/s eta 0:00:47\n",
            "      -------------------------------------- 0.2/15.8 MB 344.1 kB/s eta 0:00:46\n",
            "      -------------------------------------- 0.3/15.8 MB 365.7 kB/s eta 0:00:43\n",
            "      -------------------------------------- 0.3/15.8 MB 365.7 kB/s eta 0:00:43\n",
            "      -------------------------------------- 0.3/15.8 MB 401.6 kB/s eta 0:00:39\n",
            "      -------------------------------------- 0.4/15.8 MB 432.9 kB/s eta 0:00:36\n",
            "      -------------------------------------- 0.4/15.8 MB 432.9 kB/s eta 0:00:36\n",
            "     - ------------------------------------- 0.4/15.8 MB 437.1 kB/s eta 0:00:36\n",
            "     - ------------------------------------- 0.5/15.8 MB 489.1 kB/s eta 0:00:32\n",
            "     - ------------------------------------- 0.5/15.8 MB 514.5 kB/s eta 0:00:30\n",
            "     - ------------------------------------- 0.6/15.8 MB 559.2 kB/s eta 0:00:28\n",
            "     - ------------------------------------- 0.7/15.8 MB 600.7 kB/s eta 0:00:26\n",
            "     - ------------------------------------- 0.8/15.8 MB 691.6 kB/s eta 0:00:22\n",
            "     - ------------------------------------- 0.8/15.8 MB 691.6 kB/s eta 0:00:22\n",
            "     - ------------------------------------- 0.8/15.8 MB 631.4 kB/s eta 0:00:24\n",
            "     -- ------------------------------------ 0.9/15.8 MB 647.8 kB/s eta 0:00:24\n",
            "     -- ------------------------------------ 0.9/15.8 MB 678.6 kB/s eta 0:00:22\n",
            "     -- ------------------------------------ 1.0/15.8 MB 692.5 kB/s eta 0:00:22\n",
            "     -- ------------------------------------ 1.1/15.8 MB 740.0 kB/s eta 0:00:20\n",
            "     -- ------------------------------------ 1.2/15.8 MB 786.6 kB/s eta 0:00:19\n",
            "     -- ------------------------------------ 1.2/15.8 MB 777.3 kB/s eta 0:00:19\n",
            "     --- ----------------------------------- 1.3/15.8 MB 819.5 kB/s eta 0:00:18\n",
            "     --- ----------------------------------- 1.4/15.8 MB 836.7 kB/s eta 0:00:18\n",
            "     --- ----------------------------------- 1.5/15.8 MB 890.4 kB/s eta 0:00:17\n",
            "     --- ----------------------------------- 1.5/15.8 MB 890.4 kB/s eta 0:00:17\n",
            "     --- ----------------------------------- 1.5/15.8 MB 871.9 kB/s eta 0:00:17\n",
            "     --- ----------------------------------- 1.6/15.8 MB 851.5 kB/s eta 0:00:17\n",
            "     --- ----------------------------------- 1.6/15.8 MB 868.3 kB/s eta 0:00:17\n",
            "     ---- ---------------------------------- 1.7/15.8 MB 877.7 kB/s eta 0:00:17\n",
            "     ---- ---------------------------------- 1.8/15.8 MB 896.6 kB/s eta 0:00:16\n",
            "     ---- ---------------------------------- 1.8/15.8 MB 905.4 kB/s eta 0:00:16\n",
            "     ---- ---------------------------------- 1.8/15.8 MB 874.0 kB/s eta 0:00:17\n",
            "     ---- ---------------------------------- 1.8/15.8 MB 884.0 kB/s eta 0:00:16\n",
            "     ---- ---------------------------------- 1.9/15.8 MB 866.1 kB/s eta 0:00:17\n",
            "     ---- ---------------------------------- 1.9/15.8 MB 864.4 kB/s eta 0:00:17\n",
            "     ---- ---------------------------------- 1.9/15.8 MB 864.4 kB/s eta 0:00:17\n",
            "     ---- ---------------------------------- 1.9/15.8 MB 845.4 kB/s eta 0:00:17\n",
            "     ---- ---------------------------------- 2.0/15.8 MB 835.7 kB/s eta 0:00:17\n",
            "     ---- ---------------------------------- 2.0/15.8 MB 835.7 kB/s eta 0:00:17\n",
            "     ---- ---------------------------------- 2.0/15.8 MB 835.7 kB/s eta 0:00:17\n",
            "     ---- ---------------------------------- 2.0/15.8 MB 835.7 kB/s eta 0:00:17\n",
            "     ---- ---------------------------------- 2.0/15.8 MB 835.7 kB/s eta 0:00:17\n",
            "     ---- ---------------------------------- 2.0/15.8 MB 835.7 kB/s eta 0:00:17\n",
            "     ---- ---------------------------------- 2.0/15.8 MB 835.7 kB/s eta 0:00:17\n",
            "     ---- ---------------------------------- 2.0/15.8 MB 835.7 kB/s eta 0:00:17\n",
            "     ----- --------------------------------- 2.0/15.8 MB 750.8 kB/s eta 0:00:19\n",
            "     ------ -------------------------------- 2.5/15.8 MB 898.9 kB/s eta 0:00:15\n",
            "     ------ -------------------------------- 2.5/15.8 MB 891.1 kB/s eta 0:00:15\n",
            "     ------ -------------------------------- 2.5/15.8 MB 882.4 kB/s eta 0:00:16\n",
            "     ------ -------------------------------- 2.6/15.8 MB 895.4 kB/s eta 0:00:15\n",
            "     ------ -------------------------------- 2.6/15.8 MB 895.4 kB/s eta 0:00:15\n",
            "     ------ -------------------------------- 2.6/15.8 MB 878.5 kB/s eta 0:00:15\n",
            "     ------ -------------------------------- 2.6/15.8 MB 878.5 kB/s eta 0:00:15\n",
            "     ------ -------------------------------- 2.7/15.8 MB 862.8 kB/s eta 0:00:16\n",
            "     ------ -------------------------------- 2.7/15.8 MB 848.7 kB/s eta 0:00:16\n",
            "     ------ -------------------------------- 2.7/15.8 MB 842.6 kB/s eta 0:00:16\n",
            "     ------ -------------------------------- 2.7/15.8 MB 848.2 kB/s eta 0:00:16\n",
            "     ------ -------------------------------- 2.8/15.8 MB 847.6 kB/s eta 0:00:16\n",
            "     ------- ------------------------------- 2.9/15.8 MB 865.7 kB/s eta 0:00:15\n",
            "     ------- ------------------------------- 2.9/15.8 MB 865.7 kB/s eta 0:00:15\n",
            "     ------- ------------------------------- 3.0/15.8 MB 871.9 kB/s eta 0:00:15\n",
            "     ------- ------------------------------- 3.0/15.8 MB 875.9 kB/s eta 0:00:15\n",
            "     ------- ------------------------------- 3.1/15.8 MB 880.6 kB/s eta 0:00:15\n",
            "     ------- ------------------------------- 3.1/15.8 MB 880.6 kB/s eta 0:00:15\n",
            "     ------- ------------------------------- 3.1/15.8 MB 879.7 kB/s eta 0:00:15\n",
            "     ------- ------------------------------- 3.2/15.8 MB 881.3 kB/s eta 0:00:15\n",
            "     ------- ------------------------------- 3.2/15.8 MB 874.9 kB/s eta 0:00:15\n",
            "     -------- ------------------------------ 3.3/15.8 MB 895.1 kB/s eta 0:00:14\n",
            "     -------- ------------------------------ 3.3/15.8 MB 895.1 kB/s eta 0:00:14\n",
            "     -------- ------------------------------ 3.4/15.8 MB 889.1 kB/s eta 0:00:14\n",
            "     -------- ------------------------------ 3.5/15.8 MB 904.9 kB/s eta 0:00:14\n",
            "     -------- ------------------------------ 3.6/15.8 MB 913.4 kB/s eta 0:00:14\n",
            "     -------- ------------------------------ 3.6/15.8 MB 913.8 kB/s eta 0:00:14\n",
            "     --------- ----------------------------- 3.7/15.8 MB 916.5 kB/s eta 0:00:14\n",
            "     --------- ----------------------------- 3.7/15.8 MB 918.2 kB/s eta 0:00:14\n",
            "     --------- ----------------------------- 3.7/15.8 MB 916.5 kB/s eta 0:00:14\n",
            "     --------- ----------------------------- 3.7/15.8 MB 916.5 kB/s eta 0:00:14\n",
            "     --------- ----------------------------- 3.8/15.8 MB 907.3 kB/s eta 0:00:14\n",
            "     --------- ----------------------------- 3.8/15.8 MB 911.2 kB/s eta 0:00:14\n",
            "     --------- ----------------------------- 3.8/15.8 MB 911.2 kB/s eta 0:00:14\n",
            "     --------- ----------------------------- 4.0/15.8 MB 915.6 kB/s eta 0:00:13\n",
            "     --------- ----------------------------- 4.0/15.8 MB 915.6 kB/s eta 0:00:13\n",
            "     --------- ----------------------------- 4.0/15.8 MB 910.5 kB/s eta 0:00:13\n",
            "     ---------- ---------------------------- 4.1/15.8 MB 919.3 kB/s eta 0:00:13\n",
            "     ---------- ---------------------------- 4.1/15.8 MB 919.3 kB/s eta 0:00:13\n",
            "     ---------- ---------------------------- 4.1/15.8 MB 900.8 kB/s eta 0:00:13\n",
            "     ---------- ---------------------------- 4.1/15.8 MB 900.8 kB/s eta 0:00:13\n",
            "     ---------- ---------------------------- 4.1/15.8 MB 887.2 kB/s eta 0:00:14\n",
            "     ---------- ---------------------------- 4.1/15.8 MB 887.2 kB/s eta 0:00:14\n",
            "     ---------- ---------------------------- 4.2/15.8 MB 881.2 kB/s eta 0:00:14\n",
            "     ---------- ---------------------------- 4.2/15.8 MB 881.2 kB/s eta 0:00:14\n",
            "     ---------- ---------------------------- 4.2/15.8 MB 873.2 kB/s eta 0:00:14\n",
            "     ---------- ---------------------------- 4.3/15.8 MB 883.0 kB/s eta 0:00:14\n",
            "     ---------- ---------------------------- 4.4/15.8 MB 898.8 kB/s eta 0:00:13\n",
            "     ---------- ---------------------------- 4.4/15.8 MB 898.8 kB/s eta 0:00:13\n",
            "     ----------- --------------------------- 4.5/15.8 MB 885.4 kB/s eta 0:00:13\n",
            "     ----------- --------------------------- 4.5/15.8 MB 892.7 kB/s eta 0:00:13\n",
            "     ----------- --------------------------- 4.5/15.8 MB 891.3 kB/s eta 0:00:13\n",
            "     ----------- --------------------------- 4.6/15.8 MB 883.8 kB/s eta 0:00:13\n",
            "     ----------- --------------------------- 4.6/15.8 MB 883.0 kB/s eta 0:00:13\n",
            "     ----------- --------------------------- 4.6/15.8 MB 883.0 kB/s eta 0:00:13\n",
            "     ----------- --------------------------- 4.6/15.8 MB 883.0 kB/s eta 0:00:13\n",
            "     ----------- --------------------------- 4.7/15.8 MB 877.8 kB/s eta 0:00:13\n",
            "     ----------- --------------------------- 4.7/15.8 MB 877.8 kB/s eta 0:00:13\n",
            "     ----------- --------------------------- 4.7/15.8 MB 877.8 kB/s eta 0:00:13\n",
            "     ----------- --------------------------- 4.7/15.8 MB 877.8 kB/s eta 0:00:13\n",
            "     ----------- --------------------------- 4.7/15.8 MB 877.8 kB/s eta 0:00:13\n",
            "     ----------- --------------------------- 4.7/15.8 MB 877.8 kB/s eta 0:00:13\n",
            "     ----------- --------------------------- 4.7/15.8 MB 877.8 kB/s eta 0:00:13\n",
            "     ----------- --------------------------- 4.7/15.8 MB 877.8 kB/s eta 0:00:13\n",
            "     ----------- --------------------------- 4.7/15.8 MB 825.6 kB/s eta 0:00:14\n",
            "     ----------- --------------------------- 4.8/15.8 MB 828.6 kB/s eta 0:00:14\n",
            "     ------------ -------------------------- 5.1/15.8 MB 872.6 kB/s eta 0:00:13\n",
            "     ------------ -------------------------- 5.2/15.8 MB 880.9 kB/s eta 0:00:13\n",
            "     ------------ -------------------------- 5.2/15.8 MB 881.4 kB/s eta 0:00:13\n",
            "     ------------ -------------------------- 5.2/15.8 MB 880.1 kB/s eta 0:00:13\n",
            "     ------------ -------------------------- 5.3/15.8 MB 878.5 kB/s eta 0:00:13\n",
            "     ------------- ------------------------- 5.3/15.8 MB 877.2 kB/s eta 0:00:12\n",
            "     ------------- ------------------------- 5.3/15.8 MB 880.6 kB/s eta 0:00:12\n",
            "     ------------- ------------------------- 5.4/15.8 MB 876.7 kB/s eta 0:00:12\n",
            "     ------------- ------------------------- 5.5/15.8 MB 884.3 kB/s eta 0:00:12\n",
            "     ------------- ------------------------- 5.5/15.8 MB 880.4 kB/s eta 0:00:12\n",
            "     ------------- ------------------------- 5.6/15.8 MB 889.2 kB/s eta 0:00:12\n",
            "     ------------- ------------------------- 5.6/15.8 MB 890.6 kB/s eta 0:00:12\n",
            "     -------------- ------------------------ 5.7/15.8 MB 898.6 kB/s eta 0:00:12\n",
            "     -------------- ------------------------ 5.7/15.8 MB 898.6 kB/s eta 0:00:12\n",
            "     -------------- ------------------------ 5.7/15.8 MB 898.6 kB/s eta 0:00:12\n",
            "     -------------- ------------------------ 5.7/15.8 MB 898.6 kB/s eta 0:00:12\n",
            "     -------------- ------------------------ 5.8/15.8 MB 884.9 kB/s eta 0:00:12\n",
            "     -------------- ------------------------ 5.8/15.8 MB 884.9 kB/s eta 0:00:12\n",
            "     -------------- ------------------------ 5.9/15.8 MB 885.7 kB/s eta 0:00:12\n",
            "     -------------- ------------------------ 6.0/15.8 MB 891.7 kB/s eta 0:00:12\n",
            "     -------------- ------------------------ 6.0/15.8 MB 891.7 kB/s eta 0:00:12\n",
            "     -------------- ------------------------ 6.0/15.8 MB 891.7 kB/s eta 0:00:12\n",
            "     -------------- ------------------------ 6.0/15.8 MB 880.3 kB/s eta 0:00:12\n",
            "     --------------- ----------------------- 6.2/15.8 MB 893.7 kB/s eta 0:00:11\n",
            "     --------------- ----------------------- 6.2/15.8 MB 893.7 kB/s eta 0:00:11\n",
            "     --------------- ----------------------- 6.2/15.8 MB 889.1 kB/s eta 0:00:11\n",
            "     --------------- ----------------------- 6.2/15.8 MB 889.4 kB/s eta 0:00:11\n",
            "     --------------- ----------------------- 6.3/15.8 MB 884.5 kB/s eta 0:00:11\n",
            "     --------------- ----------------------- 6.4/15.8 MB 898.8 kB/s eta 0:00:11\n",
            "     --------------- ----------------------- 6.4/15.8 MB 898.8 kB/s eta 0:00:11\n",
            "     ---------------- ---------------------- 6.5/15.8 MB 905.6 kB/s eta 0:00:11\n",
            "     ---------------- ---------------------- 6.6/15.8 MB 908.8 kB/s eta 0:00:11\n",
            "     ---------------- ---------------------- 6.6/15.8 MB 909.3 kB/s eta 0:00:11\n",
            "     ---------------- ---------------------- 6.7/15.8 MB 911.7 kB/s eta 0:00:11\n",
            "     ---------------- ---------------------- 6.7/15.8 MB 904.8 kB/s eta 0:00:11\n",
            "     ---------------- ---------------------- 6.7/15.8 MB 903.2 kB/s eta 0:00:11\n",
            "     ---------------- ---------------------- 6.7/15.8 MB 903.2 kB/s eta 0:00:11\n",
            "     ---------------- ---------------------- 6.9/15.8 MB 911.6 kB/s eta 0:00:10\n",
            "     ---------------- ---------------------- 6.9/15.8 MB 911.6 kB/s eta 0:00:10\n",
            "     ----------------- --------------------- 6.9/15.8 MB 907.1 kB/s eta 0:00:10\n",
            "     ----------------- --------------------- 6.9/15.8 MB 907.4 kB/s eta 0:00:10\n",
            "     ----------------- --------------------- 7.1/15.8 MB 914.6 kB/s eta 0:00:10\n",
            "     ----------------- --------------------- 7.1/15.8 MB 909.9 kB/s eta 0:00:10\n",
            "     ----------------- --------------------- 7.2/15.8 MB 920.2 kB/s eta 0:00:10\n",
            "     ----------------- --------------------- 7.2/15.8 MB 926.7 kB/s eta 0:00:10\n",
            "     ------------------ -------------------- 7.4/15.8 MB 930.6 kB/s eta 0:00:10\n",
            "     ------------------ -------------------- 7.4/15.8 MB 928.9 kB/s eta 0:00:10\n",
            "     ------------------ -------------------- 7.4/15.8 MB 925.4 kB/s eta 0:00:10\n",
            "     ------------------ -------------------- 7.5/15.8 MB 931.8 kB/s eta 0:00:09\n",
            "     ------------------ -------------------- 7.5/15.8 MB 930.4 kB/s eta 0:00:09\n",
            "     ------------------ -------------------- 7.6/15.8 MB 932.2 kB/s eta 0:00:09\n",
            "     ------------------ -------------------- 7.6/15.8 MB 936.6 kB/s eta 0:00:09\n",
            "     ------------------- ------------------- 7.8/15.8 MB 944.5 kB/s eta 0:00:09\n",
            "     ------------------- ------------------- 7.8/15.8 MB 943.5 kB/s eta 0:00:09\n",
            "     ------------------- ------------------- 7.9/15.8 MB 948.6 kB/s eta 0:00:09\n",
            "     ------------------- ------------------- 7.9/15.8 MB 948.6 kB/s eta 0:00:09\n",
            "     ------------------- ------------------- 8.0/15.8 MB 949.0 kB/s eta 0:00:09\n",
            "     ------------------- ------------------- 8.1/15.8 MB 953.4 kB/s eta 0:00:09\n",
            "     ------------------- ------------------- 8.1/15.8 MB 952.3 kB/s eta 0:00:09\n",
            "     ------------------- ------------------- 8.1/15.8 MB 948.3 kB/s eta 0:00:09\n",
            "     -------------------- ------------------ 8.2/15.8 MB 951.0 kB/s eta 0:00:09\n",
            "     -------------------- ------------------ 8.2/15.8 MB 949.8 kB/s eta 0:00:08\n",
            "     -------------------- ------------------ 8.2/15.8 MB 949.8 kB/s eta 0:00:08\n",
            "     -------------------- ------------------ 8.3/15.8 MB 953.2 kB/s eta 0:00:08\n",
            "     -------------------- ------------------ 8.4/15.8 MB 953.9 kB/s eta 0:00:08\n",
            "     -------------------- ------------------ 8.5/15.8 MB 959.3 kB/s eta 0:00:08\n",
            "     --------------------- ----------------- 8.5/15.8 MB 961.1 kB/s eta 0:00:08\n",
            "     --------------------- ----------------- 8.7/15.8 MB 969.8 kB/s eta 0:00:08\n",
            "     --------------------- ----------------- 8.7/15.8 MB 969.3 kB/s eta 0:00:08\n",
            "     --------------------- ----------------- 8.8/15.8 MB 970.0 kB/s eta 0:00:08\n",
            "     --------------------- ----------------- 8.8/15.8 MB 974.5 kB/s eta 0:00:08\n",
            "     ---------------------- ---------------- 8.9/15.8 MB 978.0 kB/s eta 0:00:08\n",
            "     ---------------------- ---------------- 9.0/15.8 MB 983.7 kB/s eta 0:00:07\n",
            "     ---------------------- ---------------- 9.0/15.8 MB 983.1 kB/s eta 0:00:07\n",
            "     ---------------------- ---------------- 9.1/15.8 MB 984.7 kB/s eta 0:00:07\n",
            "     ---------------------- ---------------- 9.1/15.8 MB 981.4 kB/s eta 0:00:07\n",
            "     ---------------------- ---------------- 9.2/15.8 MB 983.6 kB/s eta 0:00:07\n",
            "     ---------------------- ---------------- 9.2/15.8 MB 981.9 kB/s eta 0:00:07\n",
            "     ---------------------- ---------------- 9.2/15.8 MB 981.9 kB/s eta 0:00:07\n",
            "     ---------------------- ---------------- 9.2/15.8 MB 973.9 kB/s eta 0:00:07\n",
            "     ---------------------- ---------------- 9.2/15.8 MB 973.9 kB/s eta 0:00:07\n",
            "     ----------------------- --------------- 9.3/15.8 MB 976.7 kB/s eta 0:00:07\n",
            "     ----------------------- --------------- 9.3/15.8 MB 976.7 kB/s eta 0:00:07\n",
            "     ----------------------- --------------- 9.4/15.8 MB 973.5 kB/s eta 0:00:07\n",
            "     ----------------------- --------------- 9.5/15.8 MB 972.6 kB/s eta 0:00:07\n",
            "     ----------------------- --------------- 9.5/15.8 MB 979.4 kB/s eta 0:00:07\n",
            "     ----------------------- --------------- 9.5/15.8 MB 979.4 kB/s eta 0:00:07\n",
            "     ----------------------- --------------- 9.5/15.8 MB 979.4 kB/s eta 0:00:07\n",
            "     ----------------------- --------------- 9.6/15.8 MB 975.3 kB/s eta 0:00:07\n",
            "     ----------------------- --------------- 9.6/15.8 MB 969.7 kB/s eta 0:00:07\n",
            "     ------------------------ -------------- 9.7/15.8 MB 971.8 kB/s eta 0:00:07\n",
            "     ------------------------ -------------- 9.7/15.8 MB 971.8 kB/s eta 0:00:07\n",
            "     ------------------------ -------------- 9.8/15.8 MB 971.9 kB/s eta 0:00:07\n",
            "     ------------------------ -------------- 9.9/15.8 MB 979.0 kB/s eta 0:00:07\n",
            "     ------------------------ -------------- 9.9/15.8 MB 978.0 kB/s eta 0:00:06\n",
            "     ------------------------ -------------- 9.9/15.8 MB 978.0 kB/s eta 0:00:06\n",
            "     ------------------------ ------------- 10.0/15.8 MB 978.6 kB/s eta 0:00:06\n",
            "     ------------------------ ------------- 10.1/15.8 MB 980.5 kB/s eta 0:00:06\n",
            "     ------------------------ ------------- 10.2/15.8 MB 984.0 kB/s eta 0:00:06\n",
            "     ------------------------ ------------- 10.3/15.8 MB 996.5 kB/s eta 0:00:06\n",
            "     -------------------------- ------------- 10.4/15.8 MB 1.0 MB/s eta 0:00:06\n",
            "     -------------------------- ------------- 10.5/15.8 MB 1.0 MB/s eta 0:00:06\n",
            "     -------------------------- ------------- 10.5/15.8 MB 1.0 MB/s eta 0:00:06\n",
            "     -------------------------- ------------- 10.6/15.8 MB 1.0 MB/s eta 0:00:05\n",
            "     -------------------------- ------------- 10.7/15.8 MB 1.1 MB/s eta 0:00:05\n",
            "     --------------------------- ------------ 10.8/15.8 MB 1.1 MB/s eta 0:00:05\n",
            "     --------------------------- ------------ 10.8/15.8 MB 1.1 MB/s eta 0:00:05\n",
            "     --------------------------- ------------ 10.8/15.8 MB 1.1 MB/s eta 0:00:05\n",
            "     --------------------------- ------------ 10.9/15.8 MB 1.1 MB/s eta 0:00:05\n",
            "     --------------------------- ------------ 10.9/15.8 MB 1.1 MB/s eta 0:00:05\n",
            "     --------------------------- ------------ 11.0/15.8 MB 1.0 MB/s eta 0:00:05\n",
            "     ---------------------------- ----------- 11.2/15.8 MB 1.1 MB/s eta 0:00:05\n",
            "     ---------------------------- ----------- 11.2/15.8 MB 1.1 MB/s eta 0:00:05\n",
            "     ---------------------------- ----------- 11.3/15.8 MB 1.1 MB/s eta 0:00:05\n",
            "     ----------------------------- ---------- 11.5/15.8 MB 1.1 MB/s eta 0:00:05\n",
            "     ----------------------------- ---------- 11.6/15.8 MB 1.1 MB/s eta 0:00:04\n",
            "     ----------------------------- ---------- 11.6/15.8 MB 1.1 MB/s eta 0:00:04\n",
            "     ----------------------------- ---------- 11.7/15.8 MB 1.1 MB/s eta 0:00:04\n",
            "     ----------------------------- ---------- 11.8/15.8 MB 1.1 MB/s eta 0:00:04\n",
            "     ----------------------------- ---------- 11.8/15.8 MB 1.1 MB/s eta 0:00:04\n",
            "     ----------------------------- ---------- 11.8/15.8 MB 1.1 MB/s eta 0:00:04\n",
            "     ----------------------------- ---------- 11.8/15.8 MB 1.1 MB/s eta 0:00:04\n",
            "     ------------------------------ --------- 11.9/15.8 MB 1.1 MB/s eta 0:00:04\n",
            "     ------------------------------ --------- 12.0/15.8 MB 1.1 MB/s eta 0:00:04\n",
            "     ------------------------------ --------- 12.1/15.8 MB 1.1 MB/s eta 0:00:04\n",
            "     ------------------------------ --------- 12.2/15.8 MB 1.1 MB/s eta 0:00:04\n",
            "     ------------------------------- -------- 12.3/15.8 MB 1.1 MB/s eta 0:00:04\n",
            "     ------------------------------- -------- 12.3/15.8 MB 1.1 MB/s eta 0:00:04\n",
            "     ------------------------------- -------- 12.5/15.8 MB 1.1 MB/s eta 0:00:03\n",
            "     ------------------------------- -------- 12.5/15.8 MB 1.1 MB/s eta 0:00:03\n",
            "     -------------------------------- ------- 12.6/15.8 MB 1.1 MB/s eta 0:00:03\n",
            "     -------------------------------- ------- 12.7/15.8 MB 1.1 MB/s eta 0:00:03\n",
            "     -------------------------------- ------- 12.7/15.8 MB 1.1 MB/s eta 0:00:03\n",
            "     -------------------------------- ------- 12.9/15.8 MB 1.2 MB/s eta 0:00:03\n",
            "     -------------------------------- ------- 12.9/15.8 MB 1.2 MB/s eta 0:00:03\n",
            "     --------------------------------- ------ 13.1/15.8 MB 1.2 MB/s eta 0:00:03\n",
            "     --------------------------------- ------ 13.1/15.8 MB 1.2 MB/s eta 0:00:03\n",
            "     --------------------------------- ------ 13.2/15.8 MB 1.2 MB/s eta 0:00:03\n",
            "     --------------------------------- ------ 13.3/15.8 MB 1.2 MB/s eta 0:00:03\n",
            "     --------------------------------- ------ 13.4/15.8 MB 1.2 MB/s eta 0:00:03\n",
            "     --------------------------------- ------ 13.4/15.8 MB 1.2 MB/s eta 0:00:03\n",
            "     --------------------------------- ------ 13.4/15.8 MB 1.2 MB/s eta 0:00:03\n",
            "     ---------------------------------- ----- 13.6/15.8 MB 1.2 MB/s eta 0:00:02\n",
            "     ---------------------------------- ----- 13.6/15.8 MB 1.2 MB/s eta 0:00:02\n",
            "     ---------------------------------- ----- 13.7/15.8 MB 1.2 MB/s eta 0:00:02\n",
            "     ---------------------------------- ----- 13.7/15.8 MB 1.2 MB/s eta 0:00:02\n",
            "     ---------------------------------- ----- 13.8/15.8 MB 1.2 MB/s eta 0:00:02\n",
            "     ---------------------------------- ----- 13.8/15.8 MB 1.2 MB/s eta 0:00:02\n",
            "     ----------------------------------- ---- 13.9/15.8 MB 1.2 MB/s eta 0:00:02\n",
            "     ----------------------------------- ---- 14.0/15.8 MB 1.2 MB/s eta 0:00:02\n",
            "     ----------------------------------- ---- 14.1/15.8 MB 1.2 MB/s eta 0:00:02\n",
            "     ----------------------------------- ---- 14.2/15.8 MB 1.2 MB/s eta 0:00:02\n",
            "     ------------------------------------ --- 14.3/15.8 MB 1.2 MB/s eta 0:00:02\n",
            "     ------------------------------------ --- 14.3/15.8 MB 1.2 MB/s eta 0:00:02\n",
            "     ------------------------------------ --- 14.3/15.8 MB 1.2 MB/s eta 0:00:02\n",
            "     ------------------------------------ --- 14.3/15.8 MB 1.2 MB/s eta 0:00:02\n",
            "     ------------------------------------ --- 14.3/15.8 MB 1.2 MB/s eta 0:00:02\n",
            "     ------------------------------------ --- 14.4/15.8 MB 1.2 MB/s eta 0:00:02\n",
            "     ------------------------------------ --- 14.5/15.8 MB 1.2 MB/s eta 0:00:02\n",
            "     ------------------------------------- -- 14.7/15.8 MB 1.2 MB/s eta 0:00:01\n",
            "     ------------------------------------- -- 14.7/15.8 MB 1.2 MB/s eta 0:00:01\n",
            "     ------------------------------------- -- 14.8/15.8 MB 1.3 MB/s eta 0:00:01\n",
            "     ------------------------------------- -- 14.9/15.8 MB 1.3 MB/s eta 0:00:01\n",
            "     ------------------------------------- -- 15.0/15.8 MB 1.3 MB/s eta 0:00:01\n",
            "     ------------------------------------- -- 15.0/15.8 MB 1.3 MB/s eta 0:00:01\n",
            "     -------------------------------------- - 15.1/15.8 MB 1.3 MB/s eta 0:00:01\n",
            "     -------------------------------------- - 15.2/15.8 MB 1.3 MB/s eta 0:00:01\n",
            "     -------------------------------------- - 15.4/15.8 MB 1.3 MB/s eta 0:00:01\n",
            "     -------------------------------------- - 15.4/15.8 MB 1.3 MB/s eta 0:00:01\n",
            "     ---------------------------------------  15.5/15.8 MB 1.3 MB/s eta 0:00:01\n",
            "     ---------------------------------------  15.6/15.8 MB 1.3 MB/s eta 0:00:01\n",
            "     ---------------------------------------  15.6/15.8 MB 1.3 MB/s eta 0:00:01\n",
            "     ---------------------------------------  15.7/15.8 MB 1.3 MB/s eta 0:00:01\n",
            "     ---------------------------------------  15.8/15.8 MB 1.3 MB/s eta 0:00:01\n",
            "     ---------------------------------------- 15.8/15.8 MB 1.3 MB/s eta 0:00:00\n",
            "Installing collected packages: numpy\n",
            "  Attempting uninstall: numpy\n",
            "    Found existing installation: numpy 1.24.3\n",
            "    Uninstalling numpy-1.24.3:\n",
            "      Successfully uninstalled numpy-1.24.3\n"
          ]
        },
        {
          "name": "stderr",
          "output_type": "stream",
          "text": [
            "ERROR: Could not install packages due to an OSError: [WinError 5] 拒绝访问。: 'D:\\\\anaconda\\\\envs\\\\cs224n\\\\Lib\\\\site-packages\\\\~umpy\\\\core\\\\_multiarray_tests.cp311-win_amd64.pyd'\n",
            "Consider using the `--user` option or check the permissions.\n",
            "\n"
          ]
        }
      ],
      "source": [
        "!pip install gensim --upgrade\n",
        "!pip install numpy --upgrade"
      ]
    },
    {
      "cell_type": "markdown",
      "metadata": {
        "id": "rH9gWJWpSSuL"
      },
      "source": [
        "### Reducing dimensionality of Word Embeddings\n",
        "Let's directly compare the GloVe embeddings to those of the co-occurrence matrix. In order to avoid running out of memory, we will work with a sample of 10000 GloVe vectors instead.\n",
        "Run the following cells to:\n",
        "\n",
        "1. Put 10000 Glove vectors into a matrix M\n",
        "2. Run `reduce_to_k_dim` (your Truncated SVD function) to reduce the vectors from 200-dimensional to 2-dimensional."
      ]
    },
    {
      "cell_type": "code",
      "execution_count": null,
      "metadata": {
        "id": "0PROUu_-SSuL"
      },
      "outputs": [],
      "source": [
        "def get_matrix_of_vectors(wv_from_bin, required_words):\n",
        "    \"\"\" Put the GloVe vectors into a matrix M.\n",
        "        Param:\n",
        "            wv_from_bin: KeyedVectors object; the 400000 GloVe vectors loaded from file\n",
        "        Return:\n",
        "            M: numpy matrix shape (num words, 200) containing the vectors\n",
        "            word2ind: dictionary mapping each word to its row number in M\n",
        "    \"\"\"\n",
        "    import random\n",
        "    words = list(wv_from_bin.index_to_key)\n",
        "    print(\"Shuffling words ...\")\n",
        "    random.seed(225)\n",
        "    random.shuffle(words)\n",
        "    words = words[:10000]\n",
        "    print(\"Putting %i words into word2ind and matrix M...\" % len(words))\n",
        "    word2ind = {}\n",
        "    M = []\n",
        "    curInd = 0\n",
        "    for w in words:\n",
        "        try:\n",
        "            M.append(wv_from_bin.get_vector(w))\n",
        "            word2ind[w] = curInd\n",
        "            curInd += 1\n",
        "        except KeyError:\n",
        "            continue\n",
        "    for w in required_words:\n",
        "        if w in words:\n",
        "            continue\n",
        "        try:\n",
        "            M.append(wv_from_bin.get_vector(w))\n",
        "            word2ind[w] = curInd\n",
        "            curInd += 1\n",
        "        except KeyError:\n",
        "            continue\n",
        "    M = np.stack(M)\n",
        "    print(\"Done.\")\n",
        "    return M, word2ind"
      ]
    },
    {
      "cell_type": "code",
      "execution_count": null,
      "metadata": {
        "id": "cpgM0M-hSSuM"
      },
      "outputs": [],
      "source": [
        "# -----------------------------------------------------------------\n",
        "# Run Cell to Reduce 200-Dimensional Word Embeddings to k Dimensions\n",
        "# Note: This should be quick to run\n",
        "# -----------------------------------------------------------------\n",
        "M, word2ind = get_matrix_of_vectors(wv_from_bin, words)\n",
        "M_reduced = reduce_to_k_dim(M, k=2)\n",
        "\n",
        "# Rescale (normalize) the rows to make them each of unit-length\n",
        "M_lengths = np.linalg.norm(M_reduced, axis=1)\n",
        "M_reduced_normalized = M_reduced / M_lengths[:, np.newaxis] # broadcasting"
      ]
    },
    {
      "cell_type": "markdown",
      "metadata": {
        "id": "8_46FYMJSSuN"
      },
      "source": [
        "**Note: If you are receiving out of memory issues on your local machine, try closing other applications to free more memory on your device. You may want to try restarting your machine so that you can free up extra memory. Then immediately run the jupyter notebook and see if you can load the word vectors properly. If you still have problems with loading the embeddings onto your local machine after this, please go to office hours or contact course staff.**"
      ]
    },
    {
      "cell_type": "markdown",
      "metadata": {
        "id": "zAFrU8ahSSuO"
      },
      "source": [
        "### Question 2.1: GloVe Plot Analysis [written] (3 points)\n",
        "\n",
        "Run the cell below to plot the 2D GloVe embeddings for `['value', 'gold', 'platinum', 'reserves', 'silver', 'metals', 'copper', 'belgium', 'australia', 'china', 'grammes', \"mine\"]`."
      ]
    },
    {
      "cell_type": "code",
      "execution_count": null,
      "metadata": {
        "id": "9kHRkjz6SSuO",
        "scrolled": true
      },
      "outputs": [],
      "source": [
        "words = ['value', 'gold', 'platinum', 'reserves', 'silver', 'metals', 'copper', 'belgium', 'australia', 'china', 'grammes', \"mine\"]\n",
        "\n",
        "plot_embeddings(M_reduced_normalized, word2ind, words)"
      ]
    },
    {
      "cell_type": "markdown",
      "metadata": {
        "id": "eOnrMZkzSSuP"
      },
      "source": [
        "a. What is one way the plot is different from the one generated earlier from the co-occurrence matrix? What is one way it's similar?"
      ]
    },
    {
      "cell_type": "markdown",
      "metadata": {
        "id": "5KC4PTQoSSuQ"
      },
      "source": [
        "### SOLUTION BEGIN\n",
        "\n",
        "### SOLUTION END"
      ]
    },
    {
      "cell_type": "markdown",
      "metadata": {
        "id": "bNDY5puZSSuQ"
      },
      "source": [
        "b. What is a possible cause for the difference?"
      ]
    },
    {
      "cell_type": "markdown",
      "metadata": {
        "id": "o-cWAvi8SSuR"
      },
      "source": [
        "### SOLUTION BEGIN\n",
        "\n",
        "### SOLUTION END"
      ]
    },
    {
      "cell_type": "markdown",
      "metadata": {
        "id": "nA8oIbjjSSuS"
      },
      "source": [
        "### Cosine Similarity\n",
        "Now that we have word vectors, we need a way to quantify the similarity between individual words, according to these vectors. One such metric is cosine-similarity. We will be using this to find words that are \"close\" and \"far\" from one another.\n",
        "\n",
        "We can think of n-dimensional vectors as points in n-dimensional space. If we take this perspective [L1](http://mathworld.wolfram.com/L1-Norm.html) and [L2](http://mathworld.wolfram.com/L2-Norm.html) Distances help quantify the amount of space \"we must travel\" to get between these two points. Another approach is to examine the angle between two vectors. From trigonometry we know that:\n",
        "\n",
        "<img src=\"./imgs/inner_product.png\" width=20% style=\"float: center;\"></img>\n",
        "\n",
        "Instead of computing the actual angle, we can leave the similarity in terms of $similarity = cos(\\Theta)$. Formally the [Cosine Similarity](https://en.wikipedia.org/wiki/Cosine_similarity) $s$ between two vectors $p$ and $q$ is defined as:\n",
        "\n",
        "$$s = \\frac{p \\cdot q}{||p|| ||q||}, \\textrm{ where } s \\in [-1, 1] $$ "
      ]
    },
    {
      "cell_type": "markdown",
      "metadata": {
        "id": "sFfCOLUsSSuS"
      },
      "source": [
        "### Question 2.2: Words with Multiple Meanings (1.5 points) [code + written] \n",
        "Polysemes and homonyms are words that have more than one meaning (see this [wiki page](https://en.wikipedia.org/wiki/Polysemy) to learn more about the difference between polysemes and homonyms ). Find a word with *at least two different meanings* such that the top-10 most similar words (according to cosine similarity) contain related words from *both* meanings. For example, \"leaves\" has both \"go_away\" and \"a_structure_of_a_plant\" meaning in the top 10, and \"scoop\" has both \"handed_waffle_cone\" and \"lowdown\". You will probably need to try several polysemous or homonymic words before you find one. \n",
        "\n",
        "Please state the word you discover and the multiple meanings that occur in the top 10. Why do you think many of the polysemous or homonymic words you tried didn't work (i.e. the top-10 most similar words only contain **one** of the meanings of the words)?\n",
        "\n",
        "**Note**: You should use the `wv_from_bin.most_similar(word)` function to get the top 10 similar words. This function ranks all other words in the vocabulary with respect to their cosine similarity to the given word. For further assistance, please check the __[GenSim documentation](https://radimrehurek.com/gensim/models/keyedvectors.html#gensim.models.keyedvectors.FastTextKeyedVectors.most_similar)__."
      ]
    },
    {
      "cell_type": "code",
      "execution_count": null,
      "metadata": {
        "id": "ZAr09U-xSSuT"
      },
      "outputs": [],
      "source": [
        "### SOLUTION BEGIN\n",
        "\n",
        "### SOLUTION END"
      ]
    },
    {
      "cell_type": "markdown",
      "metadata": {
        "id": "VdQ018tjSSuT"
      },
      "source": [
        "### SOLUTION BEGIN\n",
        "\n",
        "### SOLUTION END"
      ]
    },
    {
      "cell_type": "markdown",
      "metadata": {
        "id": "VfeW-eK9SSuU"
      },
      "source": [
        "### Question 2.3: Synonyms & Antonyms (2 points) [code + written] \n",
        "\n",
        "When considering Cosine Similarity, it's often more convenient to think of Cosine Distance, which is simply 1 - Cosine Similarity.\n",
        "\n",
        "Find three words $(w_1,w_2,w_3)$ where $w_1$ and $w_2$ are synonyms and $w_1$ and $w_3$ are antonyms, but Cosine Distance $(w_1,w_3) <$ Cosine Distance $(w_1,w_2)$. \n",
        "\n",
        "As an example, $w_1$=\"happy\" is closer to $w_3$=\"sad\" than to $w_2$=\"cheerful\". Please find a different example that satisfies the above. Once you have found your example, please give a possible explanation for why this counter-intuitive result may have happened.\n",
        "\n",
        "You should use the the `wv_from_bin.distance(w1, w2)` function here in order to compute the cosine distance between two words. Please see the __[GenSim documentation](https://radimrehurek.com/gensim/models/keyedvectors.html#gensim.models.keyedvectors.FastTextKeyedVectors.distance)__ for further assistance."
      ]
    },
    {
      "cell_type": "code",
      "execution_count": null,
      "metadata": {
        "id": "bwlpPjpHSSuV"
      },
      "outputs": [],
      "source": [
        "### SOLUTION BEGIN\n",
        "\n",
        "w1 = \n",
        "w2 =\n",
        "w3 = \n",
        "w1_w2_dist = wv_from_bin.distance(w1, w2)\n",
        "w1_w3_dist = wv_from_bin.distance(w1, w3)\n",
        "\n",
        "print(\"Synonyms {}, {} have cosine distance: {}\".format(w1, w2, w1_w2_dist))\n",
        "print(\"Antonyms {}, {} have cosine distance: {}\".format(w1, w3, w1_w3_dist))\n",
        "\n",
        "### SOLUTION END"
      ]
    },
    {
      "cell_type": "markdown",
      "metadata": {
        "id": "PeIHjTFMSSuV"
      },
      "source": [
        "### SOLUTION BEGIN\n",
        "\n",
        "### SOLUTION END"
      ]
    },
    {
      "cell_type": "markdown",
      "metadata": {
        "id": "ZxIDq26zSSuW"
      },
      "source": [
        "### Question 2.4: Analogies with Word Vectors [written] (1.5 points)\n",
        "Word vectors have been shown to *sometimes* exhibit the ability to solve analogies. \n",
        "\n",
        "As an example, for the analogy \"man : grandfather :: woman : x\" (read: man is to grandfather as woman is to x), what is x?\n",
        "\n",
        "In the cell below, we show you how to use word vectors to find x using the `most_similar` function from the __[GenSim documentation](https://radimrehurek.com/gensim/models/keyedvectors.html#gensim.models.keyedvectors.KeyedVectors.most_similar)__. The function finds words that are most similar to the words in the `positive` list and most dissimilar from the words in the `negative` list (while omitting the input words, which are often the most similar; see [this paper](https://www.aclweb.org/anthology/N18-2039.pdf)). The answer to the analogy will have the highest cosine similarity (largest returned numerical value)."
      ]
    },
    {
      "cell_type": "code",
      "execution_count": null,
      "metadata": {
        "id": "u0pC7H4VSSuY"
      },
      "outputs": [],
      "source": [
        "# Run this cell to answer the analogy -- man : grandfather :: woman : x\n",
        "pprint.pprint(wv_from_bin.most_similar(positive=['woman', 'grandfather'], negative=['man']))"
      ]
    },
    {
      "cell_type": "markdown",
      "metadata": {
        "id": "XVv8I9WwSSuZ"
      },
      "source": [
        "Let $m$, $g$, $w$, and $x$ denote the word vectors for `man`, `grandfather`, `woman`, and the answer, respectively. Using **only** vectors $m$, $g$, $w$, and the vector arithmetic operators $+$ and $-$ in your answer, to what expression are we maximizing $x$'s cosine similarity?\n",
        "\n",
        "Hint: Recall that word vectors are simply multi-dimensional vectors that represent a word. It might help to draw out a 2D example using arbitrary locations of each vector. Where would `man` and `woman` lie in the coordinate plane relative to `grandfather` and the answer?"
      ]
    },
    {
      "cell_type": "markdown",
      "metadata": {
        "id": "KlUKBqtHSSuZ"
      },
      "source": [
        "### SOLUTION BEGIN\n",
        "\n",
        "### SOLUTION END"
      ]
    },
    {
      "cell_type": "markdown",
      "metadata": {
        "id": "2rRgMca9SSua"
      },
      "source": [
        "### Question 2.5: Finding Analogies [code + written]  (1.5 points)\n",
        "a. For the previous example, it's clear that \"grandmother\" completes the analogy. But give an intuitive explanation as to why the `most_similar` function gives us words like \"granddaughter\", \"daughter\", or \"mother?"
      ]
    },
    {
      "cell_type": "markdown",
      "metadata": {
        "id": "WgYQXazQSSua"
      },
      "source": [
        "### SOLUTION BEGIN\n",
        "\n",
        "### SOLUTION END"
      ]
    },
    {
      "cell_type": "markdown",
      "metadata": {
        "id": "p9aAUXEISSub"
      },
      "source": [
        "b. Find an example of analogy that holds according to these vectors (i.e. the intended word is ranked top). In your solution please state the full analogy in the form x:y :: a:b. If you believe the analogy is complicated, explain why the analogy holds in one or two sentences.\n",
        "\n",
        "**Note**: You may have to try many analogies to find one that works!"
      ]
    },
    {
      "cell_type": "code",
      "execution_count": null,
      "metadata": {
        "id": "dhzQJMYYVSjf"
      },
      "outputs": [],
      "source": [
        "### SOLUTION BEGIN\n",
        "\n",
        "x, y, a, b = <FILL YOUR RESPONSE HERE>\n",
        "assert wv_from_bin.most_similar(positive=[a, y], negative=[x])[0][0] == b\n",
        "\n",
        "### SOLUTION END"
      ]
    },
    {
      "cell_type": "markdown",
      "metadata": {
        "id": "K3QlPqAwSSub"
      },
      "source": [
        "### SOLUTION BEGIN\n",
        "\n",
        "### SOLUTION END"
      ]
    },
    {
      "cell_type": "markdown",
      "metadata": {
        "id": "SwgcEywwSSuc"
      },
      "source": [
        "### Question 2.6: Incorrect Analogy [code + written] (1.5 points)\n",
        "a. Below, we expect to see the intended analogy \"hand : glove :: foot : **sock**\", but we see an unexpected result instead. Give a potential reason as to why this particular analogy turned out the way it did?"
      ]
    },
    {
      "cell_type": "code",
      "execution_count": null,
      "metadata": {
        "id": "m-ykWoJoSSuc"
      },
      "outputs": [],
      "source": [
        "pprint.pprint(wv_from_bin.most_similar(positive=['foot', 'glove'], negative=['hand']))"
      ]
    },
    {
      "cell_type": "markdown",
      "metadata": {
        "id": "zn4ruS8MSSud"
      },
      "source": [
        "### SOLUTION BEGIN\n",
        "\n",
        "### SOLUTION END"
      ]
    },
    {
      "cell_type": "markdown",
      "metadata": {
        "id": "D1gHyZt0SSud"
      },
      "source": [
        "b. Find another example of analogy that does *not* hold according to these vectors. In your solution, state the intended analogy in the form x:y :: a:b, and state the **incorrect** value of b according to the word vectors (in the previous example, this would be **'45,000-square'**)."
      ]
    },
    {
      "cell_type": "code",
      "execution_count": null,
      "metadata": {
        "id": "D_rlci42XQTw"
      },
      "outputs": [],
      "source": [
        "### SOLUTION BEGIN\n",
        "\n",
        "x, y, a, b = <FILL YOUR RESPONSE HERE>\n",
        "pprint.pprint(wv_from_bin.most_similar(positive=[a, y], negative=[x]))\n",
        "\n",
        "### SOLUTION END"
      ]
    },
    {
      "cell_type": "markdown",
      "metadata": {
        "id": "c4x0EHjeSSue"
      },
      "source": [
        "### SOLUTION BEGIN\n",
        "\n",
        "### SOLUTION END"
      ]
    },
    {
      "cell_type": "markdown",
      "metadata": {
        "id": "yvlycXN-SSuf"
      },
      "source": [
        "### Question 2.7: Guided Analysis of Bias in Word Vectors [written] (1 point)\n",
        "\n",
        "It's important to be cognizant of the biases (gender, race, sexual orientation etc.) implicit in our word embeddings. Bias can be dangerous because it can reinforce stereotypes through applications that employ these models.\n",
        "\n",
        "Run the cell below, to examine (a) which terms are most similar to \"woman\" and \"profession\" and most dissimilar to \"man\", and (b) which terms are most similar to \"man\" and \"profession\" and most dissimilar to \"woman\". Point out the difference between the list of female-associated words and the list of male-associated words, and explain how it is reflecting gender bias."
      ]
    },
    {
      "cell_type": "code",
      "execution_count": null,
      "metadata": {
        "id": "XggWA4MhSSuf"
      },
      "outputs": [],
      "source": [
        "# Run this cell\n",
        "# Here `positive` indicates the list of words to be similar to and `negative` indicates the list of words to be\n",
        "# most dissimilar from.\n",
        "\n",
        "pprint.pprint(wv_from_bin.most_similar(positive=['man', 'profession'], negative=['woman']))\n",
        "print()\n",
        "pprint.pprint(wv_from_bin.most_similar(positive=['woman', 'profession'], negative=['man']))"
      ]
    },
    {
      "cell_type": "markdown",
      "metadata": {
        "id": "x4g6KbsYSSuh"
      },
      "source": [
        "### SOLUTION BEGIN\n",
        "\n",
        "### SOLUTION END"
      ]
    },
    {
      "cell_type": "markdown",
      "metadata": {
        "id": "LxJmnS6lSSui"
      },
      "source": [
        "### Question 2.8: Independent Analysis of Bias in Word Vectors [code + written]  (1 point)\n",
        "\n",
        "Use the `most_similar` function to find another pair of analogies that demonstrates some bias is exhibited by the vectors. Please briefly explain the example of bias that you discover."
      ]
    },
    {
      "cell_type": "code",
      "execution_count": null,
      "metadata": {
        "id": "PZoDheIfSSui"
      },
      "outputs": [],
      "source": [
        "### SOLUTION BEGIN\n",
        "\n",
        "A = \n",
        "B = \n",
        "word = \n",
        "pprint.pprint(wv_from_bin.most_similar(positive=[A, word], negative=[B]))\n",
        "print()\n",
        "pprint.pprint(wv_from_bin.most_similar(positive=[B, word], negative=[A]))\n",
        "\n",
        "### SOLUTION END"
      ]
    },
    {
      "cell_type": "markdown",
      "metadata": {
        "id": "TGOlmtJoSSuj"
      },
      "source": [
        "### SOLUTION BEGIN\n",
        "\n",
        "### SOLUTION END"
      ]
    },
    {
      "cell_type": "markdown",
      "metadata": {
        "id": "eK2XVWzmSSuk"
      },
      "source": [
        "### Question 2.9: Thinking About Bias [written] (2 points)\n",
        "\n",
        "a. Give one explanation of how bias gets into the word vectors. Briefly describe a real-world example that demonstrates this source of bias."
      ]
    },
    {
      "cell_type": "markdown",
      "metadata": {
        "id": "19pM85fCSSuk"
      },
      "source": [
        "### SOLUTION BEGIN\n",
        "\n",
        "### SOLUTION END"
      ]
    },
    {
      "cell_type": "markdown",
      "metadata": {
        "id": "ILYqJZ7ASSul"
      },
      "source": [
        "b. What is one method you can use to mitigate bias exhibited by word vectors?  Briefly describe a real-world example that demonstrates this method."
      ]
    },
    {
      "cell_type": "markdown",
      "metadata": {
        "id": "dnJaAB7mSSul"
      },
      "source": [
        "\n",
        "### SOLUTION BEGIN\n",
        "\n",
        "### SOLUTION END"
      ]
    },
    {
      "cell_type": "markdown",
      "metadata": {
        "id": "dzh3eEmZSSum"
      },
      "source": [
        "# <font color=\"blue\"> Submission Instructions</font>\n",
        "\n",
        "1. Click the Save button at the top of the Jupyter Notebook.\n",
        "2. Select Cell -> All Output -> Clear. This will clear all the outputs from all cells (but will keep the content of all cells). \n",
        "2. Select Cell -> Run All. This will run all the cells in order, and will take several minutes.\n",
        "3. Once you've rerun everything, select File -> Download as -> PDF via LaTeX (If you have trouble using \"PDF via LaTex\", you can also save the webpage as pdf. <font color='blue'> Make sure all your solutions especially the coding parts are displayed in the pdf</font>, it's okay if the provided codes get cut off because lines are not wrapped in code cells).\n",
        "4. Look at the PDF file and make sure all your solutions are there, displayed correctly. The PDF is the only thing your graders will see!\n",
        "5. Submit your PDF on Gradescope."
      ]
    }
  ],
  "metadata": {
    "anaconda-cloud": {},
    "colab": {
      "provenance": []
    },
    "kernelspec": {
      "display_name": "Python 3 (ipykernel)",
      "language": "python",
      "name": "python3"
    },
    "language_info": {
      "codemirror_mode": {
        "name": "ipython",
        "version": 3
      },
      "file_extension": ".py",
      "mimetype": "text/x-python",
      "name": "python",
      "nbconvert_exporter": "python",
      "pygments_lexer": "ipython3",
      "version": "3.11.3"
    }
  },
  "nbformat": 4,
  "nbformat_minor": 0
}
